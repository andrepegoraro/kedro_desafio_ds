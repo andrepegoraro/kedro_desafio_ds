{
 "cells": [
  {
   "cell_type": "code",
   "execution_count": 5,
   "id": "3c432dc0-316e-419c-a773-7179246ce0e0",
   "metadata": {},
   "outputs": [
    {
     "name": "stdout",
     "output_type": "stream",
     "text": [
      "2022-06-30 14:44:28,272 - root - INFO - No path argument was provided. Using: C:\\Users\\155 X-MX\\Projects\\desafio_ds\\kedro_desafio_ds\n",
      "2022-06-30 14:44:28,556 - kedro.framework.session.store - INFO - `read()` not implemented for `BaseSessionStore`. Assuming empty store.\n",
      "2022-06-30 14:44:28,736 - kedro.config.common - INFO - Config from path `C:\\Users\\155 X-MX\\Projects\\desafio_ds\\kedro_desafio_ds\\conf\\local` will override the following existing top-level config keys: preprocessed_traffic, traffic\n",
      "2022-06-30 14:44:28,755 - root - INFO - ** Kedro project Desafio DS Transito\n",
      "2022-06-30 14:44:28,756 - root - INFO - Defined global variable `context`, `session`, `catalog` and `pipelines`\n"
     ]
    },
    {
     "data": {
      "text/plain": [
       "['traffic',\n",
       " 'preprocessed_traffic',\n",
       " 'encoded_traffic_dataset',\n",
       " 'label_encoder',\n",
       " 'parameters']"
      ]
     },
     "execution_count": 5,
     "metadata": {},
     "output_type": "execute_result"
    }
   ],
   "source": [
    "%reload_kedro\n",
    "catalog.list()"
   ]
  },
  {
   "cell_type": "markdown",
   "id": "a41c6e7e-dd45-4232-9090-2020552728c4",
   "metadata": {},
   "source": [
    "## Markdown aleatorio"
   ]
  },
  {
   "cell_type": "code",
   "execution_count": 6,
   "id": "fa445856-722a-4bd9-93e8-679ea933d364",
   "metadata": {},
   "outputs": [],
   "source": [
    "import pandas as pd\n",
    "import matplotlib"
   ]
  },
  {
   "cell_type": "code",
   "execution_count": 7,
   "id": "8ac2354b-1b3e-4280-a5ca-2fa3d5e6476c",
   "metadata": {},
   "outputs": [
    {
     "name": "stdout",
     "output_type": "stream",
     "text": [
      "2022-06-30 14:44:32,328 - kedro.io.data_catalog - INFO - Loading data from `traffic` (CSVDataSet)...\n",
      "2022-06-30 14:44:32,343 - kedro.io.data_catalog - INFO - Loading data from `preprocessed_traffic` (PickleDataSet)...\n"
     ]
    }
   ],
   "source": [
    "traffic = catalog.load('traffic')\n",
    "preprocessed_traffic = catalog.load('preprocessed_traffic')"
   ]
  },
  {
   "cell_type": "code",
   "execution_count": 8,
   "id": "69f9244c-cfae-4df3-87c4-84df27e55dea",
   "metadata": {},
   "outputs": [
    {
     "data": {
      "text/html": [
       "<div>\n",
       "<style scoped>\n",
       "    .dataframe tbody tr th:only-of-type {\n",
       "        vertical-align: middle;\n",
       "    }\n",
       "\n",
       "    .dataframe tbody tr th {\n",
       "        vertical-align: top;\n",
       "    }\n",
       "\n",
       "    .dataframe thead th {\n",
       "        text-align: right;\n",
       "    }\n",
       "</style>\n",
       "<table border=\"1\" class=\"dataframe\">\n",
       "  <thead>\n",
       "    <tr style=\"text-align: right;\">\n",
       "      <th></th>\n",
       "      <th>hour_coded</th>\n",
       "      <th>immobilized_bus</th>\n",
       "      <th>broken_truck</th>\n",
       "      <th>vehicle_excess</th>\n",
       "      <th>accident_victim</th>\n",
       "      <th>running_over</th>\n",
       "      <th>fire_vehicles</th>\n",
       "      <th>freight_occurrence</th>\n",
       "      <th>dangerous_freight_incident</th>\n",
       "      <th>lack_of_electricity</th>\n",
       "      <th>fire</th>\n",
       "      <th>point_of_flooding</th>\n",
       "      <th>manifestations</th>\n",
       "      <th>trolleybus_deffect</th>\n",
       "      <th>tree</th>\n",
       "      <th>semaphore_off</th>\n",
       "      <th>intermittent_semaphore</th>\n",
       "      <th>slowness_in_traffic</th>\n",
       "    </tr>\n",
       "  </thead>\n",
       "  <tbody>\n",
       "    <tr>\n",
       "      <th>0</th>\n",
       "      <td>1</td>\n",
       "      <td>0</td>\n",
       "      <td>0</td>\n",
       "      <td>0</td>\n",
       "      <td>0</td>\n",
       "      <td>0</td>\n",
       "      <td>0</td>\n",
       "      <td>0</td>\n",
       "      <td>0</td>\n",
       "      <td>0</td>\n",
       "      <td>0</td>\n",
       "      <td>0</td>\n",
       "      <td>0</td>\n",
       "      <td>0</td>\n",
       "      <td>0</td>\n",
       "      <td>0</td>\n",
       "      <td>0</td>\n",
       "      <td>0.041</td>\n",
       "    </tr>\n",
       "    <tr>\n",
       "      <th>1</th>\n",
       "      <td>2</td>\n",
       "      <td>0</td>\n",
       "      <td>0</td>\n",
       "      <td>0</td>\n",
       "      <td>0</td>\n",
       "      <td>0</td>\n",
       "      <td>0</td>\n",
       "      <td>0</td>\n",
       "      <td>0</td>\n",
       "      <td>0</td>\n",
       "      <td>0</td>\n",
       "      <td>0</td>\n",
       "      <td>0</td>\n",
       "      <td>0</td>\n",
       "      <td>0</td>\n",
       "      <td>0</td>\n",
       "      <td>0</td>\n",
       "      <td>0.066</td>\n",
       "    </tr>\n",
       "    <tr>\n",
       "      <th>2</th>\n",
       "      <td>3</td>\n",
       "      <td>0</td>\n",
       "      <td>0</td>\n",
       "      <td>0</td>\n",
       "      <td>0</td>\n",
       "      <td>0</td>\n",
       "      <td>0</td>\n",
       "      <td>0</td>\n",
       "      <td>0</td>\n",
       "      <td>0</td>\n",
       "      <td>0</td>\n",
       "      <td>0</td>\n",
       "      <td>0</td>\n",
       "      <td>0</td>\n",
       "      <td>0</td>\n",
       "      <td>0</td>\n",
       "      <td>0</td>\n",
       "      <td>0.087</td>\n",
       "    </tr>\n",
       "    <tr>\n",
       "      <th>3</th>\n",
       "      <td>4</td>\n",
       "      <td>0</td>\n",
       "      <td>0</td>\n",
       "      <td>0</td>\n",
       "      <td>0</td>\n",
       "      <td>0</td>\n",
       "      <td>0</td>\n",
       "      <td>0</td>\n",
       "      <td>0</td>\n",
       "      <td>0</td>\n",
       "      <td>0</td>\n",
       "      <td>0</td>\n",
       "      <td>0</td>\n",
       "      <td>0</td>\n",
       "      <td>0</td>\n",
       "      <td>0</td>\n",
       "      <td>0</td>\n",
       "      <td>0.092</td>\n",
       "    </tr>\n",
       "    <tr>\n",
       "      <th>4</th>\n",
       "      <td>5</td>\n",
       "      <td>0</td>\n",
       "      <td>0</td>\n",
       "      <td>0</td>\n",
       "      <td>0</td>\n",
       "      <td>0</td>\n",
       "      <td>0</td>\n",
       "      <td>0</td>\n",
       "      <td>0</td>\n",
       "      <td>0</td>\n",
       "      <td>0</td>\n",
       "      <td>0</td>\n",
       "      <td>0</td>\n",
       "      <td>0</td>\n",
       "      <td>0</td>\n",
       "      <td>0</td>\n",
       "      <td>0</td>\n",
       "      <td>0.111</td>\n",
       "    </tr>\n",
       "    <tr>\n",
       "      <th>...</th>\n",
       "      <td>...</td>\n",
       "      <td>...</td>\n",
       "      <td>...</td>\n",
       "      <td>...</td>\n",
       "      <td>...</td>\n",
       "      <td>...</td>\n",
       "      <td>...</td>\n",
       "      <td>...</td>\n",
       "      <td>...</td>\n",
       "      <td>...</td>\n",
       "      <td>...</td>\n",
       "      <td>...</td>\n",
       "      <td>...</td>\n",
       "      <td>...</td>\n",
       "      <td>...</td>\n",
       "      <td>...</td>\n",
       "      <td>...</td>\n",
       "      <td>...</td>\n",
       "    </tr>\n",
       "    <tr>\n",
       "      <th>130</th>\n",
       "      <td>23</td>\n",
       "      <td>1</td>\n",
       "      <td>0</td>\n",
       "      <td>0</td>\n",
       "      <td>0</td>\n",
       "      <td>1</td>\n",
       "      <td>0</td>\n",
       "      <td>0</td>\n",
       "      <td>0</td>\n",
       "      <td>0</td>\n",
       "      <td>0</td>\n",
       "      <td>0</td>\n",
       "      <td>0</td>\n",
       "      <td>1</td>\n",
       "      <td>0</td>\n",
       "      <td>0</td>\n",
       "      <td>0</td>\n",
       "      <td>0.178</td>\n",
       "    </tr>\n",
       "    <tr>\n",
       "      <th>131</th>\n",
       "      <td>24</td>\n",
       "      <td>0</td>\n",
       "      <td>0</td>\n",
       "      <td>0</td>\n",
       "      <td>2</td>\n",
       "      <td>0</td>\n",
       "      <td>0</td>\n",
       "      <td>0</td>\n",
       "      <td>0</td>\n",
       "      <td>0</td>\n",
       "      <td>0</td>\n",
       "      <td>0</td>\n",
       "      <td>0</td>\n",
       "      <td>0</td>\n",
       "      <td>0</td>\n",
       "      <td>0</td>\n",
       "      <td>0</td>\n",
       "      <td>0.181</td>\n",
       "    </tr>\n",
       "    <tr>\n",
       "      <th>132</th>\n",
       "      <td>25</td>\n",
       "      <td>1</td>\n",
       "      <td>0</td>\n",
       "      <td>0</td>\n",
       "      <td>2</td>\n",
       "      <td>0</td>\n",
       "      <td>0</td>\n",
       "      <td>0</td>\n",
       "      <td>0</td>\n",
       "      <td>0</td>\n",
       "      <td>0</td>\n",
       "      <td>0</td>\n",
       "      <td>0</td>\n",
       "      <td>0</td>\n",
       "      <td>0</td>\n",
       "      <td>0</td>\n",
       "      <td>0</td>\n",
       "      <td>0.177</td>\n",
       "    </tr>\n",
       "    <tr>\n",
       "      <th>133</th>\n",
       "      <td>26</td>\n",
       "      <td>0</td>\n",
       "      <td>4</td>\n",
       "      <td>0</td>\n",
       "      <td>0</td>\n",
       "      <td>0</td>\n",
       "      <td>0</td>\n",
       "      <td>0</td>\n",
       "      <td>0</td>\n",
       "      <td>0</td>\n",
       "      <td>0</td>\n",
       "      <td>0</td>\n",
       "      <td>1</td>\n",
       "      <td>0</td>\n",
       "      <td>0</td>\n",
       "      <td>1</td>\n",
       "      <td>0</td>\n",
       "      <td>0.174</td>\n",
       "    </tr>\n",
       "    <tr>\n",
       "      <th>134</th>\n",
       "      <td>27</td>\n",
       "      <td>0</td>\n",
       "      <td>0</td>\n",
       "      <td>0</td>\n",
       "      <td>0</td>\n",
       "      <td>0</td>\n",
       "      <td>0</td>\n",
       "      <td>0</td>\n",
       "      <td>0</td>\n",
       "      <td>0</td>\n",
       "      <td>0</td>\n",
       "      <td>0</td>\n",
       "      <td>0</td>\n",
       "      <td>0</td>\n",
       "      <td>0</td>\n",
       "      <td>0</td>\n",
       "      <td>0</td>\n",
       "      <td>0.121</td>\n",
       "    </tr>\n",
       "  </tbody>\n",
       "</table>\n",
       "<p>135 rows × 18 columns</p>\n",
       "</div>"
      ],
      "text/plain": [
       "     hour_coded  immobilized_bus  broken_truck  vehicle_excess  \\\n",
       "0             1                0             0               0   \n",
       "1             2                0             0               0   \n",
       "2             3                0             0               0   \n",
       "3             4                0             0               0   \n",
       "4             5                0             0               0   \n",
       "..          ...              ...           ...             ...   \n",
       "130          23                1             0               0   \n",
       "131          24                0             0               0   \n",
       "132          25                1             0               0   \n",
       "133          26                0             4               0   \n",
       "134          27                0             0               0   \n",
       "\n",
       "     accident_victim  running_over  fire_vehicles  freight_occurrence  \\\n",
       "0                  0             0              0                   0   \n",
       "1                  0             0              0                   0   \n",
       "2                  0             0              0                   0   \n",
       "3                  0             0              0                   0   \n",
       "4                  0             0              0                   0   \n",
       "..               ...           ...            ...                 ...   \n",
       "130                0             1              0                   0   \n",
       "131                2             0              0                   0   \n",
       "132                2             0              0                   0   \n",
       "133                0             0              0                   0   \n",
       "134                0             0              0                   0   \n",
       "\n",
       "     dangerous_freight_incident  lack_of_electricity  fire  point_of_flooding  \\\n",
       "0                             0                    0     0                  0   \n",
       "1                             0                    0     0                  0   \n",
       "2                             0                    0     0                  0   \n",
       "3                             0                    0     0                  0   \n",
       "4                             0                    0     0                  0   \n",
       "..                          ...                  ...   ...                ...   \n",
       "130                           0                    0     0                  0   \n",
       "131                           0                    0     0                  0   \n",
       "132                           0                    0     0                  0   \n",
       "133                           0                    0     0                  0   \n",
       "134                           0                    0     0                  0   \n",
       "\n",
       "     manifestations  trolleybus_deffect  tree  semaphore_off  \\\n",
       "0                 0                   0     0              0   \n",
       "1                 0                   0     0              0   \n",
       "2                 0                   0     0              0   \n",
       "3                 0                   0     0              0   \n",
       "4                 0                   0     0              0   \n",
       "..              ...                 ...   ...            ...   \n",
       "130               0                   1     0              0   \n",
       "131               0                   0     0              0   \n",
       "132               0                   0     0              0   \n",
       "133               1                   0     0              1   \n",
       "134               0                   0     0              0   \n",
       "\n",
       "     intermittent_semaphore  slowness_in_traffic  \n",
       "0                         0                0.041  \n",
       "1                         0                0.066  \n",
       "2                         0                0.087  \n",
       "3                         0                0.092  \n",
       "4                         0                0.111  \n",
       "..                      ...                  ...  \n",
       "130                       0                0.178  \n",
       "131                       0                0.181  \n",
       "132                       0                0.177  \n",
       "133                       0                0.174  \n",
       "134                       0                0.121  \n",
       "\n",
       "[135 rows x 18 columns]"
      ]
     },
     "execution_count": 8,
     "metadata": {},
     "output_type": "execute_result"
    }
   ],
   "source": [
    "preprocessed_traffic"
   ]
  },
  {
   "cell_type": "code",
   "execution_count": 9,
   "id": "5f33a989-c70a-407e-9a3b-720df90d11ce",
   "metadata": {},
   "outputs": [],
   "source": [
    "## Nosso objetivo com este projeto é tentar prever a lentidão no tráfego;\n",
    "## vale ressaltar que nao temos valores nulos nessa tabela. Os zeros sinalizam que não houve ocorrêcia naquele registro em específico"
   ]
  },
  {
   "cell_type": "code",
   "execution_count": 10,
   "id": "9b48d833-d3cf-4816-a852-26e34999e726",
   "metadata": {},
   "outputs": [],
   "source": [
    "# Agora eh interessante conferir se existe alguma variável na tabela que não faz sentido para a construção do nosso modelo.\n",
    "# A princípio, todas as variáveis fazem sentido.\n",
    "# Mas existe uma função que mede isso quantitativamente depois - a influência de cada variável no resultado do modelo."
   ]
  },
  {
   "cell_type": "markdown",
   "id": "dae95284-5037-4031-86ee-3b1e7e150f6b",
   "metadata": {},
   "source": [
    "## Contando nulos em cada uma das variáveis"
   ]
  },
  {
   "cell_type": "code",
   "execution_count": 11,
   "id": "67fadcaf-c40d-46aa-aeb3-6554a6dcecc8",
   "metadata": {},
   "outputs": [
    {
     "data": {
      "text/plain": [
       "hour_coded                    0\n",
       "immobilized_bus               0\n",
       "broken_truck                  0\n",
       "vehicle_excess                0\n",
       "accident_victim               0\n",
       "running_over                  0\n",
       "fire_vehicles                 0\n",
       "freight_occurrence            0\n",
       "dangerous_freight_incident    0\n",
       "lack_of_electricity           0\n",
       "fire                          0\n",
       "point_of_flooding             0\n",
       "manifestations                0\n",
       "trolleybus_deffect            0\n",
       "tree                          0\n",
       "semaphore_off                 0\n",
       "intermittent_semaphore        0\n",
       "slowness_in_traffic           0\n",
       "dtype: int64"
      ]
     },
     "execution_count": 11,
     "metadata": {},
     "output_type": "execute_result"
    }
   ],
   "source": [
    "preprocessed_traffic.isnull().sum()\n",
    "\n",
    "# Não temos valores nulos, como já tinha sido conferido no pre_processamento"
   ]
  },
  {
   "cell_type": "code",
   "execution_count": 12,
   "id": "710108c7-2dfc-46a1-acd0-339573f07bfb",
   "metadata": {},
   "outputs": [
    {
     "data": {
      "text/plain": [
       "hour_coded                      int64\n",
       "immobilized_bus                 int64\n",
       "broken_truck                    int64\n",
       "vehicle_excess                  int64\n",
       "accident_victim                 int64\n",
       "running_over                    int64\n",
       "fire_vehicles                   int64\n",
       "freight_occurrence              int64\n",
       "dangerous_freight_incident      int64\n",
       "lack_of_electricity             int64\n",
       "fire                            int64\n",
       "point_of_flooding               int64\n",
       "manifestations                  int64\n",
       "trolleybus_deffect              int64\n",
       "tree                            int64\n",
       "semaphore_off                   int64\n",
       "intermittent_semaphore          int64\n",
       "slowness_in_traffic           float64\n",
       "dtype: object"
      ]
     },
     "execution_count": 12,
     "metadata": {},
     "output_type": "execute_result"
    }
   ],
   "source": [
    "## Conferimdo se os tipos seguem certos apos o preprocessamento dos dados?\n",
    "preprocessed_traffic.dtypes"
   ]
  },
  {
   "cell_type": "markdown",
   "id": "18d2ed81-fc92-4697-be9b-2212a2c14d15",
   "metadata": {},
   "source": [
    "## Analisando a variável target"
   ]
  },
  {
   "cell_type": "code",
   "execution_count": 13,
   "id": "285473cf-92f2-497f-8e16-c0cbe52ba332",
   "metadata": {},
   "outputs": [],
   "source": [
    "from sklearn.preprocessing import LabelEncoder"
   ]
  },
  {
   "cell_type": "code",
   "execution_count": 14,
   "id": "a097d5db-67e3-40cb-9863-8ab48fd5006a",
   "metadata": {},
   "outputs": [
    {
     "data": {
      "text/html": [
       "<style>#sk-container-id-1 {color: black;background-color: white;}#sk-container-id-1 pre{padding: 0;}#sk-container-id-1 div.sk-toggleable {background-color: white;}#sk-container-id-1 label.sk-toggleable__label {cursor: pointer;display: block;width: 100%;margin-bottom: 0;padding: 0.3em;box-sizing: border-box;text-align: center;}#sk-container-id-1 label.sk-toggleable__label-arrow:before {content: \"▸\";float: left;margin-right: 0.25em;color: #696969;}#sk-container-id-1 label.sk-toggleable__label-arrow:hover:before {color: black;}#sk-container-id-1 div.sk-estimator:hover label.sk-toggleable__label-arrow:before {color: black;}#sk-container-id-1 div.sk-toggleable__content {max-height: 0;max-width: 0;overflow: hidden;text-align: left;background-color: #f0f8ff;}#sk-container-id-1 div.sk-toggleable__content pre {margin: 0.2em;color: black;border-radius: 0.25em;background-color: #f0f8ff;}#sk-container-id-1 input.sk-toggleable__control:checked~div.sk-toggleable__content {max-height: 200px;max-width: 100%;overflow: auto;}#sk-container-id-1 input.sk-toggleable__control:checked~label.sk-toggleable__label-arrow:before {content: \"▾\";}#sk-container-id-1 div.sk-estimator input.sk-toggleable__control:checked~label.sk-toggleable__label {background-color: #d4ebff;}#sk-container-id-1 div.sk-label input.sk-toggleable__control:checked~label.sk-toggleable__label {background-color: #d4ebff;}#sk-container-id-1 input.sk-hidden--visually {border: 0;clip: rect(1px 1px 1px 1px);clip: rect(1px, 1px, 1px, 1px);height: 1px;margin: -1px;overflow: hidden;padding: 0;position: absolute;width: 1px;}#sk-container-id-1 div.sk-estimator {font-family: monospace;background-color: #f0f8ff;border: 1px dotted black;border-radius: 0.25em;box-sizing: border-box;margin-bottom: 0.5em;}#sk-container-id-1 div.sk-estimator:hover {background-color: #d4ebff;}#sk-container-id-1 div.sk-parallel-item::after {content: \"\";width: 100%;border-bottom: 1px solid gray;flex-grow: 1;}#sk-container-id-1 div.sk-label:hover label.sk-toggleable__label {background-color: #d4ebff;}#sk-container-id-1 div.sk-serial::before {content: \"\";position: absolute;border-left: 1px solid gray;box-sizing: border-box;top: 0;bottom: 0;left: 50%;z-index: 0;}#sk-container-id-1 div.sk-serial {display: flex;flex-direction: column;align-items: center;background-color: white;padding-right: 0.2em;padding-left: 0.2em;position: relative;}#sk-container-id-1 div.sk-item {position: relative;z-index: 1;}#sk-container-id-1 div.sk-parallel {display: flex;align-items: stretch;justify-content: center;background-color: white;position: relative;}#sk-container-id-1 div.sk-item::before, #sk-container-id-1 div.sk-parallel-item::before {content: \"\";position: absolute;border-left: 1px solid gray;box-sizing: border-box;top: 0;bottom: 0;left: 50%;z-index: -1;}#sk-container-id-1 div.sk-parallel-item {display: flex;flex-direction: column;z-index: 1;position: relative;background-color: white;}#sk-container-id-1 div.sk-parallel-item:first-child::after {align-self: flex-end;width: 50%;}#sk-container-id-1 div.sk-parallel-item:last-child::after {align-self: flex-start;width: 50%;}#sk-container-id-1 div.sk-parallel-item:only-child::after {width: 0;}#sk-container-id-1 div.sk-dashed-wrapped {border: 1px dashed gray;margin: 0 0.4em 0.5em 0.4em;box-sizing: border-box;padding-bottom: 0.4em;background-color: white;}#sk-container-id-1 div.sk-label label {font-family: monospace;font-weight: bold;display: inline-block;line-height: 1.2em;}#sk-container-id-1 div.sk-label-container {text-align: center;}#sk-container-id-1 div.sk-container {/* jupyter's `normalize.less` sets `[hidden] { display: none; }` but bootstrap.min.css set `[hidden] { display: none !important; }` so we also need the `!important` here to be able to override the default hidden behavior on the sphinx rendered scikit-learn.org. See: https://github.com/scikit-learn/scikit-learn/issues/21755 */display: inline-block !important;position: relative;}#sk-container-id-1 div.sk-text-repr-fallback {display: none;}</style><div id=\"sk-container-id-1\" class=\"sk-top-container\"><div class=\"sk-text-repr-fallback\"><pre>LabelEncoder()</pre><b>In a Jupyter environment, please rerun this cell to show the HTML representation or trust the notebook. <br />On GitHub, the HTML representation is unable to render, please try loading this page with nbviewer.org.</b></div><div class=\"sk-container\" hidden><div class=\"sk-item\"><div class=\"sk-estimator sk-toggleable\"><input class=\"sk-toggleable__control sk-hidden--visually\" id=\"sk-estimator-id-1\" type=\"checkbox\" checked><label for=\"sk-estimator-id-1\" class=\"sk-toggleable__label sk-toggleable__label-arrow\">LabelEncoder</label><div class=\"sk-toggleable__content\"><pre>LabelEncoder()</pre></div></div></div></div></div>"
      ],
      "text/plain": [
       "LabelEncoder()"
      ]
     },
     "execution_count": 14,
     "metadata": {},
     "output_type": "execute_result"
    }
   ],
   "source": [
    "label_encoder = LabelEncoder()\n",
    "label_encoder"
   ]
  },
  {
   "cell_type": "code",
   "execution_count": 15,
   "id": "fbd4876b-2262-4726-aa2e-2b5a2f4343e0",
   "metadata": {},
   "outputs": [],
   "source": [
    "label_encoder = label_encoder.fit(preprocessed_traffic[\"hour_coded\"])"
   ]
  },
  {
   "cell_type": "code",
   "execution_count": 16,
   "id": "d52f9963-70ae-4fec-8ba1-60e8d7812160",
   "metadata": {},
   "outputs": [],
   "source": [
    "# agora, em outro caso qualquer, transformariamos os dados da coluna para numeros, porem aqui na coluna de hour_coded os valores ja estao codados\n",
    "\n",
    "preprocessed_traffic[\"hour_coded\"] = label_encoder.transform(preprocessed_traffic[\"hour_coded\"])"
   ]
  },
  {
   "cell_type": "markdown",
   "id": "76daadaf-efc6-4ae7-ade9-99997cbe13ed",
   "metadata": {},
   "source": [
    "## Depois de ter rodado o data_engineering"
   ]
  },
  {
   "cell_type": "code",
   "execution_count": 17,
   "id": "dbc411ac-0a48-4f9c-bb91-7888d5294145",
   "metadata": {},
   "outputs": [
    {
     "name": "stdout",
     "output_type": "stream",
     "text": [
      "2022-06-30 14:44:43,802 - kedro.io.data_catalog - INFO - Loading data from `label_encoder` (PickleDataSet)...\n"
     ]
    }
   ],
   "source": [
    "label_encoder_2 = catalog.load('label_encoder')"
   ]
  },
  {
   "cell_type": "code",
   "execution_count": 18,
   "id": "bb3dc4a2-fa1d-4ed5-a5ad-f8e96c6cc24f",
   "metadata": {},
   "outputs": [
    {
     "data": {
      "text/html": [
       "<style>#sk-container-id-2 {color: black;background-color: white;}#sk-container-id-2 pre{padding: 0;}#sk-container-id-2 div.sk-toggleable {background-color: white;}#sk-container-id-2 label.sk-toggleable__label {cursor: pointer;display: block;width: 100%;margin-bottom: 0;padding: 0.3em;box-sizing: border-box;text-align: center;}#sk-container-id-2 label.sk-toggleable__label-arrow:before {content: \"▸\";float: left;margin-right: 0.25em;color: #696969;}#sk-container-id-2 label.sk-toggleable__label-arrow:hover:before {color: black;}#sk-container-id-2 div.sk-estimator:hover label.sk-toggleable__label-arrow:before {color: black;}#sk-container-id-2 div.sk-toggleable__content {max-height: 0;max-width: 0;overflow: hidden;text-align: left;background-color: #f0f8ff;}#sk-container-id-2 div.sk-toggleable__content pre {margin: 0.2em;color: black;border-radius: 0.25em;background-color: #f0f8ff;}#sk-container-id-2 input.sk-toggleable__control:checked~div.sk-toggleable__content {max-height: 200px;max-width: 100%;overflow: auto;}#sk-container-id-2 input.sk-toggleable__control:checked~label.sk-toggleable__label-arrow:before {content: \"▾\";}#sk-container-id-2 div.sk-estimator input.sk-toggleable__control:checked~label.sk-toggleable__label {background-color: #d4ebff;}#sk-container-id-2 div.sk-label input.sk-toggleable__control:checked~label.sk-toggleable__label {background-color: #d4ebff;}#sk-container-id-2 input.sk-hidden--visually {border: 0;clip: rect(1px 1px 1px 1px);clip: rect(1px, 1px, 1px, 1px);height: 1px;margin: -1px;overflow: hidden;padding: 0;position: absolute;width: 1px;}#sk-container-id-2 div.sk-estimator {font-family: monospace;background-color: #f0f8ff;border: 1px dotted black;border-radius: 0.25em;box-sizing: border-box;margin-bottom: 0.5em;}#sk-container-id-2 div.sk-estimator:hover {background-color: #d4ebff;}#sk-container-id-2 div.sk-parallel-item::after {content: \"\";width: 100%;border-bottom: 1px solid gray;flex-grow: 1;}#sk-container-id-2 div.sk-label:hover label.sk-toggleable__label {background-color: #d4ebff;}#sk-container-id-2 div.sk-serial::before {content: \"\";position: absolute;border-left: 1px solid gray;box-sizing: border-box;top: 0;bottom: 0;left: 50%;z-index: 0;}#sk-container-id-2 div.sk-serial {display: flex;flex-direction: column;align-items: center;background-color: white;padding-right: 0.2em;padding-left: 0.2em;position: relative;}#sk-container-id-2 div.sk-item {position: relative;z-index: 1;}#sk-container-id-2 div.sk-parallel {display: flex;align-items: stretch;justify-content: center;background-color: white;position: relative;}#sk-container-id-2 div.sk-item::before, #sk-container-id-2 div.sk-parallel-item::before {content: \"\";position: absolute;border-left: 1px solid gray;box-sizing: border-box;top: 0;bottom: 0;left: 50%;z-index: -1;}#sk-container-id-2 div.sk-parallel-item {display: flex;flex-direction: column;z-index: 1;position: relative;background-color: white;}#sk-container-id-2 div.sk-parallel-item:first-child::after {align-self: flex-end;width: 50%;}#sk-container-id-2 div.sk-parallel-item:last-child::after {align-self: flex-start;width: 50%;}#sk-container-id-2 div.sk-parallel-item:only-child::after {width: 0;}#sk-container-id-2 div.sk-dashed-wrapped {border: 1px dashed gray;margin: 0 0.4em 0.5em 0.4em;box-sizing: border-box;padding-bottom: 0.4em;background-color: white;}#sk-container-id-2 div.sk-label label {font-family: monospace;font-weight: bold;display: inline-block;line-height: 1.2em;}#sk-container-id-2 div.sk-label-container {text-align: center;}#sk-container-id-2 div.sk-container {/* jupyter's `normalize.less` sets `[hidden] { display: none; }` but bootstrap.min.css set `[hidden] { display: none !important; }` so we also need the `!important` here to be able to override the default hidden behavior on the sphinx rendered scikit-learn.org. See: https://github.com/scikit-learn/scikit-learn/issues/21755 */display: inline-block !important;position: relative;}#sk-container-id-2 div.sk-text-repr-fallback {display: none;}</style><div id=\"sk-container-id-2\" class=\"sk-top-container\"><div class=\"sk-text-repr-fallback\"><pre>LabelEncoder()</pre><b>In a Jupyter environment, please rerun this cell to show the HTML representation or trust the notebook. <br />On GitHub, the HTML representation is unable to render, please try loading this page with nbviewer.org.</b></div><div class=\"sk-container\" hidden><div class=\"sk-item\"><div class=\"sk-estimator sk-toggleable\"><input class=\"sk-toggleable__control sk-hidden--visually\" id=\"sk-estimator-id-2\" type=\"checkbox\" checked><label for=\"sk-estimator-id-2\" class=\"sk-toggleable__label sk-toggleable__label-arrow\">LabelEncoder</label><div class=\"sk-toggleable__content\"><pre>LabelEncoder()</pre></div></div></div></div></div>"
      ],
      "text/plain": [
       "LabelEncoder()"
      ]
     },
     "execution_count": 18,
     "metadata": {},
     "output_type": "execute_result"
    }
   ],
   "source": [
    "label_encoder_2"
   ]
  },
  {
   "cell_type": "code",
   "execution_count": 19,
   "id": "e3f5418a-3dcf-43d1-8947-094df7518cce",
   "metadata": {},
   "outputs": [
    {
     "data": {
      "text/plain": [
       "3"
      ]
     },
     "execution_count": 19,
     "metadata": {},
     "output_type": "execute_result"
    }
   ],
   "source": [
    "preprocessed_traffic[\"hour_coded\"][3]"
   ]
  },
  {
   "cell_type": "code",
   "execution_count": 20,
   "id": "ee46105a-c0f3-46b3-a3f2-90c5953b7dd8",
   "metadata": {},
   "outputs": [
    {
     "data": {
      "text/plain": [
       "array([ 1,  2,  3,  4,  5,  6,  7,  8,  9, 10, 11, 12, 13, 14, 15, 16, 17,\n",
       "       18, 19, 20, 21, 22, 23, 24, 25, 26, 27,  1,  2,  3,  4,  5,  6,  7,\n",
       "        8,  9, 10, 11, 12, 13, 14, 15, 16, 17, 18, 19, 20, 21, 22, 23, 24,\n",
       "       25, 26, 27,  1,  2,  3,  4,  5,  6,  7,  8,  9, 10, 11, 12, 13, 14,\n",
       "       15, 16, 17, 18, 19, 20, 21, 22, 23, 24, 25, 26, 27,  1,  2,  3,  4,\n",
       "        5,  6,  7,  8,  9, 10, 11, 12, 13, 14, 15, 16, 17, 18, 19, 20, 21,\n",
       "       22, 23, 24, 25, 26, 27,  1,  2,  3,  4,  5,  6,  7,  8,  9, 10, 11,\n",
       "       12, 13, 14, 15, 16, 17, 18, 19, 20, 21, 22, 23, 24, 25, 26, 27],\n",
       "      dtype=int64)"
      ]
     },
     "execution_count": 20,
     "metadata": {},
     "output_type": "execute_result"
    }
   ],
   "source": [
    "label_encoder.inverse_transform(preprocessed_traffic[\"hour_coded\"])"
   ]
  },
  {
   "cell_type": "code",
   "execution_count": 21,
   "id": "78f535b7-c596-4608-87b5-e054682a25e4",
   "metadata": {},
   "outputs": [
    {
     "data": {
      "text/plain": [
       "array([ 1,  2,  3,  4,  5,  6,  7,  8,  9, 10, 11, 12, 13, 14, 15, 16, 17,\n",
       "       18, 19, 20, 21, 22, 23, 24, 25, 26, 27,  1,  2,  3,  4,  5,  6,  7,\n",
       "        8,  9, 10, 11, 12, 13, 14, 15, 16, 17, 18, 19, 20, 21, 22, 23, 24,\n",
       "       25, 26, 27,  1,  2,  3,  4,  5,  6,  7,  8,  9, 10, 11, 12, 13, 14,\n",
       "       15, 16, 17, 18, 19, 20, 21, 22, 23, 24, 25, 26, 27,  1,  2,  3,  4,\n",
       "        5,  6,  7,  8,  9, 10, 11, 12, 13, 14, 15, 16, 17, 18, 19, 20, 21,\n",
       "       22, 23, 24, 25, 26, 27,  1,  2,  3,  4,  5,  6,  7,  8,  9, 10, 11,\n",
       "       12, 13, 14, 15, 16, 17, 18, 19, 20, 21, 22, 23, 24, 25, 26, 27],\n",
       "      dtype=int64)"
      ]
     },
     "execution_count": 21,
     "metadata": {},
     "output_type": "execute_result"
    }
   ],
   "source": [
    "# testando para ver se o resultado vai ser o mesmo do de cima:\n",
    "label_encoder_2.inverse_transform(preprocessed_traffic[\"hour_coded\"])"
   ]
  },
  {
   "cell_type": "code",
   "execution_count": 22,
   "id": "d530ddaf-b239-4f33-b325-70446ebb430b",
   "metadata": {},
   "outputs": [
    {
     "data": {
      "text/plain": [
       "4"
      ]
     },
     "execution_count": 22,
     "metadata": {},
     "output_type": "execute_result"
    }
   ],
   "source": [
    "label_encoder_2.inverse_transform(preprocessed_traffic[\"hour_coded\"])[3]"
   ]
  },
  {
   "cell_type": "markdown",
   "id": "ec7d1e36-988f-4d52-93a6-7c23ccec2724",
   "metadata": {},
   "source": [
    "## Encoded Traffic"
   ]
  },
  {
   "cell_type": "code",
   "execution_count": 23,
   "id": "7738ae7c-b92a-4b55-980c-7fb2082d8636",
   "metadata": {},
   "outputs": [
    {
     "name": "stdout",
     "output_type": "stream",
     "text": [
      "2022-06-30 14:44:49,829 - root - INFO - No path argument was provided. Using: C:\\Users\\155 X-MX\\Projects\\desafio_ds\\kedro_desafio_ds\n",
      "2022-06-30 14:44:50,222 - kedro.framework.session.store - INFO - `read()` not implemented for `BaseSessionStore`. Assuming empty store.\n",
      "2022-06-30 14:44:50,347 - kedro.config.common - INFO - Config from path `C:\\Users\\155 X-MX\\Projects\\desafio_ds\\kedro_desafio_ds\\conf\\local` will override the following existing top-level config keys: preprocessed_traffic, traffic\n",
      "2022-06-30 14:44:50,360 - root - INFO - ** Kedro project Desafio DS Transito\n",
      "2022-06-30 14:44:50,361 - root - INFO - Defined global variable `context`, `session`, `catalog` and `pipelines`\n",
      "2022-06-30 14:44:50,362 - kedro.io.data_catalog - INFO - Loading data from `encoded_traffic_dataset` (PickleDataSet)...\n"
     ]
    }
   ],
   "source": [
    "## Proxima etapa\n",
    "%reload_kedro\n",
    "encoded_traffic = catalog.load('encoded_traffic_dataset')"
   ]
  },
  {
   "cell_type": "code",
   "execution_count": 24,
   "id": "9521a5c6-14c8-41c2-b36e-7ba5c2fd8eab",
   "metadata": {},
   "outputs": [
    {
     "data": {
      "text/html": [
       "<div>\n",
       "<style scoped>\n",
       "    .dataframe tbody tr th:only-of-type {\n",
       "        vertical-align: middle;\n",
       "    }\n",
       "\n",
       "    .dataframe tbody tr th {\n",
       "        vertical-align: top;\n",
       "    }\n",
       "\n",
       "    .dataframe thead th {\n",
       "        text-align: right;\n",
       "    }\n",
       "</style>\n",
       "<table border=\"1\" class=\"dataframe\">\n",
       "  <thead>\n",
       "    <tr style=\"text-align: right;\">\n",
       "      <th></th>\n",
       "      <th>hour_coded</th>\n",
       "      <th>immobilized_bus</th>\n",
       "      <th>broken_truck</th>\n",
       "      <th>vehicle_excess</th>\n",
       "      <th>accident_victim</th>\n",
       "      <th>running_over</th>\n",
       "      <th>fire_vehicles</th>\n",
       "      <th>freight_occurrence</th>\n",
       "      <th>dangerous_freight_incident</th>\n",
       "      <th>lack_of_electricity</th>\n",
       "      <th>fire</th>\n",
       "      <th>point_of_flooding</th>\n",
       "      <th>manifestations</th>\n",
       "      <th>trolleybus_deffect</th>\n",
       "      <th>tree</th>\n",
       "      <th>semaphore_off</th>\n",
       "      <th>intermittent_semaphore</th>\n",
       "      <th>slowness_in_traffic</th>\n",
       "    </tr>\n",
       "  </thead>\n",
       "  <tbody>\n",
       "    <tr>\n",
       "      <th>0</th>\n",
       "      <td>0</td>\n",
       "      <td>0</td>\n",
       "      <td>0</td>\n",
       "      <td>0</td>\n",
       "      <td>0</td>\n",
       "      <td>0</td>\n",
       "      <td>0</td>\n",
       "      <td>0</td>\n",
       "      <td>0</td>\n",
       "      <td>0</td>\n",
       "      <td>0</td>\n",
       "      <td>0</td>\n",
       "      <td>0</td>\n",
       "      <td>0</td>\n",
       "      <td>0</td>\n",
       "      <td>0</td>\n",
       "      <td>0</td>\n",
       "      <td>0.041</td>\n",
       "    </tr>\n",
       "    <tr>\n",
       "      <th>1</th>\n",
       "      <td>1</td>\n",
       "      <td>0</td>\n",
       "      <td>0</td>\n",
       "      <td>0</td>\n",
       "      <td>0</td>\n",
       "      <td>0</td>\n",
       "      <td>0</td>\n",
       "      <td>0</td>\n",
       "      <td>0</td>\n",
       "      <td>0</td>\n",
       "      <td>0</td>\n",
       "      <td>0</td>\n",
       "      <td>0</td>\n",
       "      <td>0</td>\n",
       "      <td>0</td>\n",
       "      <td>0</td>\n",
       "      <td>0</td>\n",
       "      <td>0.066</td>\n",
       "    </tr>\n",
       "    <tr>\n",
       "      <th>2</th>\n",
       "      <td>2</td>\n",
       "      <td>0</td>\n",
       "      <td>0</td>\n",
       "      <td>0</td>\n",
       "      <td>0</td>\n",
       "      <td>0</td>\n",
       "      <td>0</td>\n",
       "      <td>0</td>\n",
       "      <td>0</td>\n",
       "      <td>0</td>\n",
       "      <td>0</td>\n",
       "      <td>0</td>\n",
       "      <td>0</td>\n",
       "      <td>0</td>\n",
       "      <td>0</td>\n",
       "      <td>0</td>\n",
       "      <td>0</td>\n",
       "      <td>0.087</td>\n",
       "    </tr>\n",
       "    <tr>\n",
       "      <th>3</th>\n",
       "      <td>3</td>\n",
       "      <td>0</td>\n",
       "      <td>0</td>\n",
       "      <td>0</td>\n",
       "      <td>0</td>\n",
       "      <td>0</td>\n",
       "      <td>0</td>\n",
       "      <td>0</td>\n",
       "      <td>0</td>\n",
       "      <td>0</td>\n",
       "      <td>0</td>\n",
       "      <td>0</td>\n",
       "      <td>0</td>\n",
       "      <td>0</td>\n",
       "      <td>0</td>\n",
       "      <td>0</td>\n",
       "      <td>0</td>\n",
       "      <td>0.092</td>\n",
       "    </tr>\n",
       "    <tr>\n",
       "      <th>4</th>\n",
       "      <td>4</td>\n",
       "      <td>0</td>\n",
       "      <td>0</td>\n",
       "      <td>0</td>\n",
       "      <td>0</td>\n",
       "      <td>0</td>\n",
       "      <td>0</td>\n",
       "      <td>0</td>\n",
       "      <td>0</td>\n",
       "      <td>0</td>\n",
       "      <td>0</td>\n",
       "      <td>0</td>\n",
       "      <td>0</td>\n",
       "      <td>0</td>\n",
       "      <td>0</td>\n",
       "      <td>0</td>\n",
       "      <td>0</td>\n",
       "      <td>0.111</td>\n",
       "    </tr>\n",
       "    <tr>\n",
       "      <th>5</th>\n",
       "      <td>5</td>\n",
       "      <td>0</td>\n",
       "      <td>0</td>\n",
       "      <td>0</td>\n",
       "      <td>0</td>\n",
       "      <td>0</td>\n",
       "      <td>0</td>\n",
       "      <td>0</td>\n",
       "      <td>0</td>\n",
       "      <td>0</td>\n",
       "      <td>0</td>\n",
       "      <td>0</td>\n",
       "      <td>0</td>\n",
       "      <td>0</td>\n",
       "      <td>0</td>\n",
       "      <td>0</td>\n",
       "      <td>0</td>\n",
       "      <td>0.109</td>\n",
       "    </tr>\n",
       "    <tr>\n",
       "      <th>6</th>\n",
       "      <td>6</td>\n",
       "      <td>0</td>\n",
       "      <td>0</td>\n",
       "      <td>0</td>\n",
       "      <td>0</td>\n",
       "      <td>0</td>\n",
       "      <td>0</td>\n",
       "      <td>0</td>\n",
       "      <td>0</td>\n",
       "      <td>0</td>\n",
       "      <td>0</td>\n",
       "      <td>0</td>\n",
       "      <td>0</td>\n",
       "      <td>0</td>\n",
       "      <td>0</td>\n",
       "      <td>0</td>\n",
       "      <td>0</td>\n",
       "      <td>0.083</td>\n",
       "    </tr>\n",
       "    <tr>\n",
       "      <th>7</th>\n",
       "      <td>7</td>\n",
       "      <td>0</td>\n",
       "      <td>0</td>\n",
       "      <td>0</td>\n",
       "      <td>0</td>\n",
       "      <td>0</td>\n",
       "      <td>0</td>\n",
       "      <td>0</td>\n",
       "      <td>0</td>\n",
       "      <td>0</td>\n",
       "      <td>0</td>\n",
       "      <td>0</td>\n",
       "      <td>0</td>\n",
       "      <td>0</td>\n",
       "      <td>0</td>\n",
       "      <td>0</td>\n",
       "      <td>0</td>\n",
       "      <td>0.082</td>\n",
       "    </tr>\n",
       "    <tr>\n",
       "      <th>8</th>\n",
       "      <td>8</td>\n",
       "      <td>0</td>\n",
       "      <td>0</td>\n",
       "      <td>0</td>\n",
       "      <td>0</td>\n",
       "      <td>0</td>\n",
       "      <td>0</td>\n",
       "      <td>0</td>\n",
       "      <td>0</td>\n",
       "      <td>0</td>\n",
       "      <td>0</td>\n",
       "      <td>0</td>\n",
       "      <td>0</td>\n",
       "      <td>0</td>\n",
       "      <td>0</td>\n",
       "      <td>0</td>\n",
       "      <td>0</td>\n",
       "      <td>0.076</td>\n",
       "    </tr>\n",
       "    <tr>\n",
       "      <th>9</th>\n",
       "      <td>9</td>\n",
       "      <td>0</td>\n",
       "      <td>0</td>\n",
       "      <td>0</td>\n",
       "      <td>0</td>\n",
       "      <td>0</td>\n",
       "      <td>0</td>\n",
       "      <td>0</td>\n",
       "      <td>0</td>\n",
       "      <td>0</td>\n",
       "      <td>0</td>\n",
       "      <td>0</td>\n",
       "      <td>0</td>\n",
       "      <td>0</td>\n",
       "      <td>0</td>\n",
       "      <td>0</td>\n",
       "      <td>0</td>\n",
       "      <td>0.064</td>\n",
       "    </tr>\n",
       "  </tbody>\n",
       "</table>\n",
       "</div>"
      ],
      "text/plain": [
       "   hour_coded  immobilized_bus  broken_truck  vehicle_excess  accident_victim  \\\n",
       "0           0                0             0               0                0   \n",
       "1           1                0             0               0                0   \n",
       "2           2                0             0               0                0   \n",
       "3           3                0             0               0                0   \n",
       "4           4                0             0               0                0   \n",
       "5           5                0             0               0                0   \n",
       "6           6                0             0               0                0   \n",
       "7           7                0             0               0                0   \n",
       "8           8                0             0               0                0   \n",
       "9           9                0             0               0                0   \n",
       "\n",
       "   running_over  fire_vehicles  freight_occurrence  \\\n",
       "0             0              0                   0   \n",
       "1             0              0                   0   \n",
       "2             0              0                   0   \n",
       "3             0              0                   0   \n",
       "4             0              0                   0   \n",
       "5             0              0                   0   \n",
       "6             0              0                   0   \n",
       "7             0              0                   0   \n",
       "8             0              0                   0   \n",
       "9             0              0                   0   \n",
       "\n",
       "   dangerous_freight_incident  lack_of_electricity  fire  point_of_flooding  \\\n",
       "0                           0                    0     0                  0   \n",
       "1                           0                    0     0                  0   \n",
       "2                           0                    0     0                  0   \n",
       "3                           0                    0     0                  0   \n",
       "4                           0                    0     0                  0   \n",
       "5                           0                    0     0                  0   \n",
       "6                           0                    0     0                  0   \n",
       "7                           0                    0     0                  0   \n",
       "8                           0                    0     0                  0   \n",
       "9                           0                    0     0                  0   \n",
       "\n",
       "   manifestations  trolleybus_deffect  tree  semaphore_off  \\\n",
       "0               0                   0     0              0   \n",
       "1               0                   0     0              0   \n",
       "2               0                   0     0              0   \n",
       "3               0                   0     0              0   \n",
       "4               0                   0     0              0   \n",
       "5               0                   0     0              0   \n",
       "6               0                   0     0              0   \n",
       "7               0                   0     0              0   \n",
       "8               0                   0     0              0   \n",
       "9               0                   0     0              0   \n",
       "\n",
       "   intermittent_semaphore  slowness_in_traffic  \n",
       "0                       0                0.041  \n",
       "1                       0                0.066  \n",
       "2                       0                0.087  \n",
       "3                       0                0.092  \n",
       "4                       0                0.111  \n",
       "5                       0                0.109  \n",
       "6                       0                0.083  \n",
       "7                       0                0.082  \n",
       "8                       0                0.076  \n",
       "9                       0                0.064  "
      ]
     },
     "execution_count": 24,
     "metadata": {},
     "output_type": "execute_result"
    }
   ],
   "source": [
    "encoded_traffic.head(10)"
   ]
  },
  {
   "cell_type": "code",
   "execution_count": 32,
   "id": "3488e266-8f44-4c44-93a8-4a1d1d360c9a",
   "metadata": {},
   "outputs": [],
   "source": [
    "## Separando o dataset em duas partes\n",
    "\n",
    "numerical_stats_columns = [\n",
    "    'immobilized_bus', 'broken_truck', 'accident_victim', 'running_over', 'fire_vehicles', 'lack_of_electricity', 'point_of_flooding', 'manifestations', 'trolleybus_deffect', 'tree', 'semaphore_off', 'intermittent_semaphore'\n",
    "]"
   ]
  },
  {
   "cell_type": "code",
   "execution_count": 36,
   "id": "218da5ee-eaa6-4c3b-a1a3-9076ba71e8da",
   "metadata": {},
   "outputs": [
    {
     "data": {
      "text/plain": [
       "['immobilized_bus',\n",
       " 'broken_truck',\n",
       " 'accident_victim',\n",
       " 'running_over',\n",
       " 'fire_vehicles',\n",
       " 'lack_of_electricity',\n",
       " 'point_of_flooding',\n",
       " 'manifestations',\n",
       " 'trolleybus_deffect',\n",
       " 'tree',\n",
       " 'semaphore_off',\n",
       " 'intermittent_semaphore']"
      ]
     },
     "execution_count": 36,
     "metadata": {},
     "output_type": "execute_result"
    }
   ],
   "source": [
    "numerical_stats_columns"
   ]
  },
  {
   "cell_type": "code",
   "execution_count": 40,
   "id": "f67f07f1-0962-472f-a309-b22d3a366ac3",
   "metadata": {},
   "outputs": [],
   "source": [
    "categorical_stats_columns = [\n",
    "    'hour_coded', 'vehicle_excess', 'freight_occurrence', 'dangerous_freight_incident', 'fire'\n",
    "]"
   ]
  },
  {
   "cell_type": "code",
   "execution_count": 41,
   "id": "fefb3352-130d-437e-8cad-7edb008f0467",
   "metadata": {},
   "outputs": [
    {
     "data": {
      "text/plain": [
       "['hour_coded',\n",
       " 'vehicle_excess',\n",
       " 'freight_occurrence',\n",
       " 'dangerous_freight_incident',\n",
       " 'fire']"
      ]
     },
     "execution_count": 41,
     "metadata": {},
     "output_type": "execute_result"
    }
   ],
   "source": [
    "categorical_stats_columns"
   ]
  },
  {
   "cell_type": "code",
   "execution_count": 43,
   "id": "593bc279-6511-4642-8480-f68c5192561e",
   "metadata": {},
   "outputs": [],
   "source": [
    "separated_df = numerical_stats_columns + categorical_stats_columns + ['slowness_in_traffic'] "
   ]
  },
  {
   "cell_type": "code",
   "execution_count": 45,
   "id": "1eeabb79-f5fc-495e-ae8c-3e34f3b3155f",
   "metadata": {},
   "outputs": [],
   "source": [
    "## Juntamos os dataframes separados em apenas um que vai para train e test\n",
    "\n",
    "df = encoded_traffic[separated_df]"
   ]
  },
  {
   "cell_type": "code",
   "execution_count": 46,
   "id": "59e534f2-3b17-491c-86fc-725d0e2de5df",
   "metadata": {},
   "outputs": [
    {
     "data": {
      "text/plain": [
       "immobilized_bus                 int64\n",
       "broken_truck                    int64\n",
       "accident_victim                 int64\n",
       "running_over                    int64\n",
       "fire_vehicles                   int64\n",
       "lack_of_electricity             int64\n",
       "point_of_flooding               int64\n",
       "manifestations                  int64\n",
       "trolleybus_deffect              int64\n",
       "tree                            int64\n",
       "semaphore_off                   int64\n",
       "intermittent_semaphore          int64\n",
       "hour_coded                      int64\n",
       "vehicle_excess                  int64\n",
       "freight_occurrence              int64\n",
       "dangerous_freight_incident      int64\n",
       "fire                            int64\n",
       "slowness_in_traffic           float64\n",
       "dtype: object"
      ]
     },
     "execution_count": 46,
     "metadata": {},
     "output_type": "execute_result"
    }
   ],
   "source": [
    "df.dtypes"
   ]
  },
  {
   "cell_type": "code",
   "execution_count": 47,
   "id": "a0a74fd1-f44d-4fb1-98e5-6f0dd16a2255",
   "metadata": {},
   "outputs": [
    {
     "data": {
      "text/plain": [
       "(135, 18)"
      ]
     },
     "execution_count": 47,
     "metadata": {},
     "output_type": "execute_result"
    }
   ],
   "source": [
    "df.shape"
   ]
  },
  {
   "cell_type": "markdown",
   "id": "7936f891-4089-4a11-8fce-15ab6321073d",
   "metadata": {},
   "source": [
    "## Separando em Train e Test"
   ]
  },
  {
   "cell_type": "code",
   "execution_count": 56,
   "id": "454c53bc-d601-40e3-b0ef-aca5db5da968",
   "metadata": {},
   "outputs": [],
   "source": [
    "# Queremos chegar no x treino, x test, y treino e y teste\n",
    "\n",
    "X = df.drop('slowness_in_traffic', axis=1)\n",
    "y = df['slowness_in_traffic']"
   ]
  },
  {
   "cell_type": "code",
   "execution_count": 59,
   "id": "8e3e561c-bcea-4b38-85bd-bed138a98fa4",
   "metadata": {},
   "outputs": [
    {
     "data": {
      "text/plain": [
       "0      0.041\n",
       "1      0.066\n",
       "2      0.087\n",
       "3      0.092\n",
       "4      0.111\n",
       "       ...  \n",
       "130    0.178\n",
       "131    0.181\n",
       "132    0.177\n",
       "133    0.174\n",
       "134    0.121\n",
       "Name: slowness_in_traffic, Length: 135, dtype: float64"
      ]
     },
     "execution_count": 59,
     "metadata": {},
     "output_type": "execute_result"
    }
   ],
   "source": [
    "y"
   ]
  },
  {
   "cell_type": "code",
   "execution_count": 57,
   "id": "1751c9ee-0c5c-4b98-bd59-a9370fe1eafc",
   "metadata": {},
   "outputs": [],
   "source": [
    "from sklearn.model_selection import train_test_split"
   ]
  },
  {
   "cell_type": "code",
   "execution_count": 61,
   "id": "7017726e-6560-422f-b0ec-193a72bfb2bd",
   "metadata": {},
   "outputs": [],
   "source": [
    "# Here I have not defined stratify=y arg bc it was not able to run\n",
    "\n",
    "X_train, X_test, y_train, y_test = train_test_split(\n",
    "    X, y, test_size = 0.3, random_state = 9999\n",
    ")"
   ]
  },
  {
   "cell_type": "code",
   "execution_count": 64,
   "id": "4ebc5b0b-2ae4-4004-8863-e7df6087e921",
   "metadata": {},
   "outputs": [],
   "source": [
    "# Agora vamos fittar o modelo\n",
    "\n",
    "from sklearn.linear_model import LinearRegression"
   ]
  },
  {
   "cell_type": "code",
   "execution_count": 66,
   "id": "53bff998-518d-4763-9a23-c9190c2b4acc",
   "metadata": {},
   "outputs": [
    {
     "data": {
      "text/html": [
       "<style>#sk-container-id-3 {color: black;background-color: white;}#sk-container-id-3 pre{padding: 0;}#sk-container-id-3 div.sk-toggleable {background-color: white;}#sk-container-id-3 label.sk-toggleable__label {cursor: pointer;display: block;width: 100%;margin-bottom: 0;padding: 0.3em;box-sizing: border-box;text-align: center;}#sk-container-id-3 label.sk-toggleable__label-arrow:before {content: \"▸\";float: left;margin-right: 0.25em;color: #696969;}#sk-container-id-3 label.sk-toggleable__label-arrow:hover:before {color: black;}#sk-container-id-3 div.sk-estimator:hover label.sk-toggleable__label-arrow:before {color: black;}#sk-container-id-3 div.sk-toggleable__content {max-height: 0;max-width: 0;overflow: hidden;text-align: left;background-color: #f0f8ff;}#sk-container-id-3 div.sk-toggleable__content pre {margin: 0.2em;color: black;border-radius: 0.25em;background-color: #f0f8ff;}#sk-container-id-3 input.sk-toggleable__control:checked~div.sk-toggleable__content {max-height: 200px;max-width: 100%;overflow: auto;}#sk-container-id-3 input.sk-toggleable__control:checked~label.sk-toggleable__label-arrow:before {content: \"▾\";}#sk-container-id-3 div.sk-estimator input.sk-toggleable__control:checked~label.sk-toggleable__label {background-color: #d4ebff;}#sk-container-id-3 div.sk-label input.sk-toggleable__control:checked~label.sk-toggleable__label {background-color: #d4ebff;}#sk-container-id-3 input.sk-hidden--visually {border: 0;clip: rect(1px 1px 1px 1px);clip: rect(1px, 1px, 1px, 1px);height: 1px;margin: -1px;overflow: hidden;padding: 0;position: absolute;width: 1px;}#sk-container-id-3 div.sk-estimator {font-family: monospace;background-color: #f0f8ff;border: 1px dotted black;border-radius: 0.25em;box-sizing: border-box;margin-bottom: 0.5em;}#sk-container-id-3 div.sk-estimator:hover {background-color: #d4ebff;}#sk-container-id-3 div.sk-parallel-item::after {content: \"\";width: 100%;border-bottom: 1px solid gray;flex-grow: 1;}#sk-container-id-3 div.sk-label:hover label.sk-toggleable__label {background-color: #d4ebff;}#sk-container-id-3 div.sk-serial::before {content: \"\";position: absolute;border-left: 1px solid gray;box-sizing: border-box;top: 0;bottom: 0;left: 50%;z-index: 0;}#sk-container-id-3 div.sk-serial {display: flex;flex-direction: column;align-items: center;background-color: white;padding-right: 0.2em;padding-left: 0.2em;position: relative;}#sk-container-id-3 div.sk-item {position: relative;z-index: 1;}#sk-container-id-3 div.sk-parallel {display: flex;align-items: stretch;justify-content: center;background-color: white;position: relative;}#sk-container-id-3 div.sk-item::before, #sk-container-id-3 div.sk-parallel-item::before {content: \"\";position: absolute;border-left: 1px solid gray;box-sizing: border-box;top: 0;bottom: 0;left: 50%;z-index: -1;}#sk-container-id-3 div.sk-parallel-item {display: flex;flex-direction: column;z-index: 1;position: relative;background-color: white;}#sk-container-id-3 div.sk-parallel-item:first-child::after {align-self: flex-end;width: 50%;}#sk-container-id-3 div.sk-parallel-item:last-child::after {align-self: flex-start;width: 50%;}#sk-container-id-3 div.sk-parallel-item:only-child::after {width: 0;}#sk-container-id-3 div.sk-dashed-wrapped {border: 1px dashed gray;margin: 0 0.4em 0.5em 0.4em;box-sizing: border-box;padding-bottom: 0.4em;background-color: white;}#sk-container-id-3 div.sk-label label {font-family: monospace;font-weight: bold;display: inline-block;line-height: 1.2em;}#sk-container-id-3 div.sk-label-container {text-align: center;}#sk-container-id-3 div.sk-container {/* jupyter's `normalize.less` sets `[hidden] { display: none; }` but bootstrap.min.css set `[hidden] { display: none !important; }` so we also need the `!important` here to be able to override the default hidden behavior on the sphinx rendered scikit-learn.org. See: https://github.com/scikit-learn/scikit-learn/issues/21755 */display: inline-block !important;position: relative;}#sk-container-id-3 div.sk-text-repr-fallback {display: none;}</style><div id=\"sk-container-id-3\" class=\"sk-top-container\"><div class=\"sk-text-repr-fallback\"><pre>LinearRegression()</pre><b>In a Jupyter environment, please rerun this cell to show the HTML representation or trust the notebook. <br />On GitHub, the HTML representation is unable to render, please try loading this page with nbviewer.org.</b></div><div class=\"sk-container\" hidden><div class=\"sk-item\"><div class=\"sk-estimator sk-toggleable\"><input class=\"sk-toggleable__control sk-hidden--visually\" id=\"sk-estimator-id-3\" type=\"checkbox\" checked><label for=\"sk-estimator-id-3\" class=\"sk-toggleable__label sk-toggleable__label-arrow\">LinearRegression</label><div class=\"sk-toggleable__content\"><pre>LinearRegression()</pre></div></div></div></div></div>"
      ],
      "text/plain": [
       "LinearRegression()"
      ]
     },
     "execution_count": 66,
     "metadata": {},
     "output_type": "execute_result"
    }
   ],
   "source": [
    "# creating an object of LinearRegression class\n",
    "\n",
    "model = LinearRegression()\n",
    "\n",
    "model.fit(X_train, y_train)"
   ]
  },
  {
   "cell_type": "code",
   "execution_count": null,
   "id": "14b5e068-4166-4072-9b9b-4892f27c05a4",
   "metadata": {},
   "outputs": [],
   "source": []
  }
 ],
 "metadata": {
  "kernelspec": {
   "display_name": "Kedro (desafio_ds_transito)",
   "language": "python",
   "name": "kedro_desafio_ds_transito"
  },
  "language_info": {
   "codemirror_mode": {
    "name": "ipython",
    "version": 3
   },
   "file_extension": ".py",
   "mimetype": "text/x-python",
   "name": "python",
   "nbconvert_exporter": "python",
   "pygments_lexer": "ipython3",
   "version": "3.8.10"
  }
 },
 "nbformat": 4,
 "nbformat_minor": 5
}
