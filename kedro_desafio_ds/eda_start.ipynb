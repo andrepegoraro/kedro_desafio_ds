{
 "cells": [
  {
   "cell_type": "code",
   "execution_count": 1,
   "id": "3c432dc0-316e-419c-a773-7179246ce0e0",
   "metadata": {},
   "outputs": [
    {
     "name": "stdout",
     "output_type": "stream",
     "text": [
      "2022-06-29 16:26:21,992 - root - INFO - No path argument was provided. Using: C:\\Users\\155 X-MX\\Projects\\desafio_ds\\kedro_desafio_ds\n",
      "2022-06-29 16:26:22,312 - kedro.framework.session.store - INFO - `read()` not implemented for `BaseSessionStore`. Assuming empty store.\n",
      "2022-06-29 16:26:22,472 - kedro.config.common - INFO - Config from path `C:\\Users\\155 X-MX\\Projects\\desafio_ds\\kedro_desafio_ds\\conf\\local` will override the following existing top-level config keys: preprocessed_traffic, traffic\n",
      "2022-06-29 16:26:22,482 - root - INFO - ** Kedro project Desafio DS Transito\n",
      "2022-06-29 16:26:22,483 - root - INFO - Defined global variable `context`, `session`, `catalog` and `pipelines`\n"
     ]
    },
    {
     "data": {
      "text/plain": [
       "['traffic', 'preprocessed_traffic', 'parameters']"
      ]
     },
     "execution_count": 1,
     "metadata": {},
     "output_type": "execute_result"
    }
   ],
   "source": [
    "%reload_kedro\n",
    "catalog.list()"
   ]
  },
  {
   "cell_type": "markdown",
   "id": "a41c6e7e-dd45-4232-9090-2020552728c4",
   "metadata": {},
   "source": [
    "## Reading Data"
   ]
  },
  {
   "cell_type": "code",
   "execution_count": 2,
   "id": "fa445856-722a-4bd9-93e8-679ea933d364",
   "metadata": {},
   "outputs": [],
   "source": [
    "import pandas as pd\n",
    "import matplotlib.pyplot as plt\n",
    "import seaborn as sns"
   ]
  },
  {
   "cell_type": "code",
   "execution_count": 3,
   "id": "d28ce84d-d437-4b0e-a140-771207b69b82",
   "metadata": {},
   "outputs": [
    {
     "name": "stdout",
     "output_type": "stream",
     "text": [
      "2022-06-29 16:26:27,518 - kedro.io.data_catalog - INFO - Loading data from `preprocessed_traffic` (PickleDataSet)...\n"
     ]
    }
   ],
   "source": [
    "preprocessed_traffic = catalog.load('preprocessed_traffic')"
   ]
  },
  {
   "cell_type": "code",
   "execution_count": 4,
   "id": "69f9244c-cfae-4df3-87c4-84df27e55dea",
   "metadata": {},
   "outputs": [
    {
     "data": {
      "text/html": [
       "<div>\n",
       "<style scoped>\n",
       "    .dataframe tbody tr th:only-of-type {\n",
       "        vertical-align: middle;\n",
       "    }\n",
       "\n",
       "    .dataframe tbody tr th {\n",
       "        vertical-align: top;\n",
       "    }\n",
       "\n",
       "    .dataframe thead th {\n",
       "        text-align: right;\n",
       "    }\n",
       "</style>\n",
       "<table border=\"1\" class=\"dataframe\">\n",
       "  <thead>\n",
       "    <tr style=\"text-align: right;\">\n",
       "      <th></th>\n",
       "      <th>hour_coded</th>\n",
       "      <th>immobilized_bus</th>\n",
       "      <th>broken_truck</th>\n",
       "      <th>vehicle_excess</th>\n",
       "      <th>accident_victim</th>\n",
       "      <th>running_over</th>\n",
       "      <th>fire_vehicles</th>\n",
       "      <th>freight_occurrence</th>\n",
       "      <th>dangerous_freight_incident</th>\n",
       "      <th>lack_of_electricity</th>\n",
       "      <th>fire</th>\n",
       "      <th>point_of_flooding</th>\n",
       "      <th>manifestations</th>\n",
       "      <th>trolleybus_deffect</th>\n",
       "      <th>tree</th>\n",
       "      <th>semaphore_off</th>\n",
       "      <th>intermittent_semaphore</th>\n",
       "      <th>slowness_in_traffic</th>\n",
       "    </tr>\n",
       "  </thead>\n",
       "  <tbody>\n",
       "    <tr>\n",
       "      <th>0</th>\n",
       "      <td>1</td>\n",
       "      <td>0</td>\n",
       "      <td>0</td>\n",
       "      <td>0</td>\n",
       "      <td>0</td>\n",
       "      <td>0</td>\n",
       "      <td>0</td>\n",
       "      <td>0</td>\n",
       "      <td>0</td>\n",
       "      <td>0</td>\n",
       "      <td>0</td>\n",
       "      <td>0</td>\n",
       "      <td>0</td>\n",
       "      <td>0</td>\n",
       "      <td>0</td>\n",
       "      <td>0</td>\n",
       "      <td>0</td>\n",
       "      <td>0.041</td>\n",
       "    </tr>\n",
       "    <tr>\n",
       "      <th>1</th>\n",
       "      <td>2</td>\n",
       "      <td>0</td>\n",
       "      <td>0</td>\n",
       "      <td>0</td>\n",
       "      <td>0</td>\n",
       "      <td>0</td>\n",
       "      <td>0</td>\n",
       "      <td>0</td>\n",
       "      <td>0</td>\n",
       "      <td>0</td>\n",
       "      <td>0</td>\n",
       "      <td>0</td>\n",
       "      <td>0</td>\n",
       "      <td>0</td>\n",
       "      <td>0</td>\n",
       "      <td>0</td>\n",
       "      <td>0</td>\n",
       "      <td>0.066</td>\n",
       "    </tr>\n",
       "    <tr>\n",
       "      <th>2</th>\n",
       "      <td>3</td>\n",
       "      <td>0</td>\n",
       "      <td>0</td>\n",
       "      <td>0</td>\n",
       "      <td>0</td>\n",
       "      <td>0</td>\n",
       "      <td>0</td>\n",
       "      <td>0</td>\n",
       "      <td>0</td>\n",
       "      <td>0</td>\n",
       "      <td>0</td>\n",
       "      <td>0</td>\n",
       "      <td>0</td>\n",
       "      <td>0</td>\n",
       "      <td>0</td>\n",
       "      <td>0</td>\n",
       "      <td>0</td>\n",
       "      <td>0.087</td>\n",
       "    </tr>\n",
       "    <tr>\n",
       "      <th>3</th>\n",
       "      <td>4</td>\n",
       "      <td>0</td>\n",
       "      <td>0</td>\n",
       "      <td>0</td>\n",
       "      <td>0</td>\n",
       "      <td>0</td>\n",
       "      <td>0</td>\n",
       "      <td>0</td>\n",
       "      <td>0</td>\n",
       "      <td>0</td>\n",
       "      <td>0</td>\n",
       "      <td>0</td>\n",
       "      <td>0</td>\n",
       "      <td>0</td>\n",
       "      <td>0</td>\n",
       "      <td>0</td>\n",
       "      <td>0</td>\n",
       "      <td>0.092</td>\n",
       "    </tr>\n",
       "    <tr>\n",
       "      <th>4</th>\n",
       "      <td>5</td>\n",
       "      <td>0</td>\n",
       "      <td>0</td>\n",
       "      <td>0</td>\n",
       "      <td>0</td>\n",
       "      <td>0</td>\n",
       "      <td>0</td>\n",
       "      <td>0</td>\n",
       "      <td>0</td>\n",
       "      <td>0</td>\n",
       "      <td>0</td>\n",
       "      <td>0</td>\n",
       "      <td>0</td>\n",
       "      <td>0</td>\n",
       "      <td>0</td>\n",
       "      <td>0</td>\n",
       "      <td>0</td>\n",
       "      <td>0.111</td>\n",
       "    </tr>\n",
       "    <tr>\n",
       "      <th>5</th>\n",
       "      <td>6</td>\n",
       "      <td>0</td>\n",
       "      <td>0</td>\n",
       "      <td>0</td>\n",
       "      <td>0</td>\n",
       "      <td>0</td>\n",
       "      <td>0</td>\n",
       "      <td>0</td>\n",
       "      <td>0</td>\n",
       "      <td>0</td>\n",
       "      <td>0</td>\n",
       "      <td>0</td>\n",
       "      <td>0</td>\n",
       "      <td>0</td>\n",
       "      <td>0</td>\n",
       "      <td>0</td>\n",
       "      <td>0</td>\n",
       "      <td>0.109</td>\n",
       "    </tr>\n",
       "    <tr>\n",
       "      <th>6</th>\n",
       "      <td>7</td>\n",
       "      <td>0</td>\n",
       "      <td>0</td>\n",
       "      <td>0</td>\n",
       "      <td>0</td>\n",
       "      <td>0</td>\n",
       "      <td>0</td>\n",
       "      <td>0</td>\n",
       "      <td>0</td>\n",
       "      <td>0</td>\n",
       "      <td>0</td>\n",
       "      <td>0</td>\n",
       "      <td>0</td>\n",
       "      <td>0</td>\n",
       "      <td>0</td>\n",
       "      <td>0</td>\n",
       "      <td>0</td>\n",
       "      <td>0.083</td>\n",
       "    </tr>\n",
       "    <tr>\n",
       "      <th>7</th>\n",
       "      <td>8</td>\n",
       "      <td>0</td>\n",
       "      <td>0</td>\n",
       "      <td>0</td>\n",
       "      <td>0</td>\n",
       "      <td>0</td>\n",
       "      <td>0</td>\n",
       "      <td>0</td>\n",
       "      <td>0</td>\n",
       "      <td>0</td>\n",
       "      <td>0</td>\n",
       "      <td>0</td>\n",
       "      <td>0</td>\n",
       "      <td>0</td>\n",
       "      <td>0</td>\n",
       "      <td>0</td>\n",
       "      <td>0</td>\n",
       "      <td>0.082</td>\n",
       "    </tr>\n",
       "    <tr>\n",
       "      <th>8</th>\n",
       "      <td>9</td>\n",
       "      <td>0</td>\n",
       "      <td>0</td>\n",
       "      <td>0</td>\n",
       "      <td>0</td>\n",
       "      <td>0</td>\n",
       "      <td>0</td>\n",
       "      <td>0</td>\n",
       "      <td>0</td>\n",
       "      <td>0</td>\n",
       "      <td>0</td>\n",
       "      <td>0</td>\n",
       "      <td>0</td>\n",
       "      <td>0</td>\n",
       "      <td>0</td>\n",
       "      <td>0</td>\n",
       "      <td>0</td>\n",
       "      <td>0.076</td>\n",
       "    </tr>\n",
       "    <tr>\n",
       "      <th>9</th>\n",
       "      <td>10</td>\n",
       "      <td>0</td>\n",
       "      <td>0</td>\n",
       "      <td>0</td>\n",
       "      <td>0</td>\n",
       "      <td>0</td>\n",
       "      <td>0</td>\n",
       "      <td>0</td>\n",
       "      <td>0</td>\n",
       "      <td>0</td>\n",
       "      <td>0</td>\n",
       "      <td>0</td>\n",
       "      <td>0</td>\n",
       "      <td>0</td>\n",
       "      <td>0</td>\n",
       "      <td>0</td>\n",
       "      <td>0</td>\n",
       "      <td>0.064</td>\n",
       "    </tr>\n",
       "  </tbody>\n",
       "</table>\n",
       "</div>"
      ],
      "text/plain": [
       "   hour_coded  immobilized_bus  broken_truck  vehicle_excess  accident_victim  \\\n",
       "0           1                0             0               0                0   \n",
       "1           2                0             0               0                0   \n",
       "2           3                0             0               0                0   \n",
       "3           4                0             0               0                0   \n",
       "4           5                0             0               0                0   \n",
       "5           6                0             0               0                0   \n",
       "6           7                0             0               0                0   \n",
       "7           8                0             0               0                0   \n",
       "8           9                0             0               0                0   \n",
       "9          10                0             0               0                0   \n",
       "\n",
       "   running_over  fire_vehicles  freight_occurrence  \\\n",
       "0             0              0                   0   \n",
       "1             0              0                   0   \n",
       "2             0              0                   0   \n",
       "3             0              0                   0   \n",
       "4             0              0                   0   \n",
       "5             0              0                   0   \n",
       "6             0              0                   0   \n",
       "7             0              0                   0   \n",
       "8             0              0                   0   \n",
       "9             0              0                   0   \n",
       "\n",
       "   dangerous_freight_incident  lack_of_electricity  fire  point_of_flooding  \\\n",
       "0                           0                    0     0                  0   \n",
       "1                           0                    0     0                  0   \n",
       "2                           0                    0     0                  0   \n",
       "3                           0                    0     0                  0   \n",
       "4                           0                    0     0                  0   \n",
       "5                           0                    0     0                  0   \n",
       "6                           0                    0     0                  0   \n",
       "7                           0                    0     0                  0   \n",
       "8                           0                    0     0                  0   \n",
       "9                           0                    0     0                  0   \n",
       "\n",
       "   manifestations  trolleybus_deffect  tree  semaphore_off  \\\n",
       "0               0                   0     0              0   \n",
       "1               0                   0     0              0   \n",
       "2               0                   0     0              0   \n",
       "3               0                   0     0              0   \n",
       "4               0                   0     0              0   \n",
       "5               0                   0     0              0   \n",
       "6               0                   0     0              0   \n",
       "7               0                   0     0              0   \n",
       "8               0                   0     0              0   \n",
       "9               0                   0     0              0   \n",
       "\n",
       "   intermittent_semaphore  slowness_in_traffic  \n",
       "0                       0                0.041  \n",
       "1                       0                0.066  \n",
       "2                       0                0.087  \n",
       "3                       0                0.092  \n",
       "4                       0                0.111  \n",
       "5                       0                0.109  \n",
       "6                       0                0.083  \n",
       "7                       0                0.082  \n",
       "8                       0                0.076  \n",
       "9                       0                0.064  "
      ]
     },
     "execution_count": 4,
     "metadata": {},
     "output_type": "execute_result"
    }
   ],
   "source": [
    "preprocessed_traffic.head(10)"
   ]
  },
  {
   "cell_type": "code",
   "execution_count": 5,
   "id": "5f33a989-c70a-407e-9a3b-720df90d11ce",
   "metadata": {},
   "outputs": [
    {
     "name": "stdout",
     "output_type": "stream",
     "text": [
      "<class 'pandas.core.frame.DataFrame'>\n",
      "RangeIndex: 135 entries, 0 to 134\n",
      "Data columns (total 18 columns):\n",
      " #   Column                      Non-Null Count  Dtype  \n",
      "---  ------                      --------------  -----  \n",
      " 0   hour_coded                  135 non-null    int64  \n",
      " 1   immobilized_bus             135 non-null    int64  \n",
      " 2   broken_truck                135 non-null    int64  \n",
      " 3   vehicle_excess              135 non-null    int64  \n",
      " 4   accident_victim             135 non-null    int64  \n",
      " 5   running_over                135 non-null    int64  \n",
      " 6   fire_vehicles               135 non-null    int64  \n",
      " 7   freight_occurrence          135 non-null    int64  \n",
      " 8   dangerous_freight_incident  135 non-null    int64  \n",
      " 9   lack_of_electricity         135 non-null    int64  \n",
      " 10  fire                        135 non-null    int64  \n",
      " 11  point_of_flooding           135 non-null    int64  \n",
      " 12  manifestations              135 non-null    int64  \n",
      " 13  trolleybus_deffect          135 non-null    int64  \n",
      " 14  tree                        135 non-null    int64  \n",
      " 15  semaphore_off               135 non-null    int64  \n",
      " 16  intermittent_semaphore      135 non-null    int64  \n",
      " 17  slowness_in_traffic         135 non-null    float64\n",
      "dtypes: float64(1), int64(17)\n",
      "memory usage: 19.1 KB\n"
     ]
    }
   ],
   "source": [
    "preprocessed_traffic.info()"
   ]
  },
  {
   "cell_type": "code",
   "execution_count": 6,
   "id": "11e310c6-6051-4247-afa5-2bb5a1b74334",
   "metadata": {},
   "outputs": [
    {
     "data": {
      "text/html": [
       "<div>\n",
       "<style scoped>\n",
       "    .dataframe tbody tr th:only-of-type {\n",
       "        vertical-align: middle;\n",
       "    }\n",
       "\n",
       "    .dataframe tbody tr th {\n",
       "        vertical-align: top;\n",
       "    }\n",
       "\n",
       "    .dataframe thead th {\n",
       "        text-align: right;\n",
       "    }\n",
       "</style>\n",
       "<table border=\"1\" class=\"dataframe\">\n",
       "  <thead>\n",
       "    <tr style=\"text-align: right;\">\n",
       "      <th></th>\n",
       "      <th>hour_coded</th>\n",
       "      <th>immobilized_bus</th>\n",
       "      <th>broken_truck</th>\n",
       "      <th>vehicle_excess</th>\n",
       "      <th>accident_victim</th>\n",
       "      <th>running_over</th>\n",
       "      <th>fire_vehicles</th>\n",
       "      <th>freight_occurrence</th>\n",
       "      <th>dangerous_freight_incident</th>\n",
       "      <th>lack_of_electricity</th>\n",
       "      <th>fire</th>\n",
       "      <th>point_of_flooding</th>\n",
       "      <th>manifestations</th>\n",
       "      <th>trolleybus_deffect</th>\n",
       "      <th>tree</th>\n",
       "      <th>semaphore_off</th>\n",
       "      <th>intermittent_semaphore</th>\n",
       "      <th>slowness_in_traffic</th>\n",
       "    </tr>\n",
       "  </thead>\n",
       "  <tbody>\n",
       "    <tr>\n",
       "      <th>count</th>\n",
       "      <td>135.00000</td>\n",
       "      <td>135.000000</td>\n",
       "      <td>135.000000</td>\n",
       "      <td>135.000000</td>\n",
       "      <td>135.000000</td>\n",
       "      <td>135.000000</td>\n",
       "      <td>135.000000</td>\n",
       "      <td>135.000000</td>\n",
       "      <td>135.000000</td>\n",
       "      <td>135.000000</td>\n",
       "      <td>135.000000</td>\n",
       "      <td>135.000000</td>\n",
       "      <td>135.000000</td>\n",
       "      <td>135.000000</td>\n",
       "      <td>135.000000</td>\n",
       "      <td>135.000000</td>\n",
       "      <td>135.000000</td>\n",
       "      <td>135.000000</td>\n",
       "    </tr>\n",
       "    <tr>\n",
       "      <th>mean</th>\n",
       "      <td>14.00000</td>\n",
       "      <td>0.340741</td>\n",
       "      <td>0.874074</td>\n",
       "      <td>0.029630</td>\n",
       "      <td>0.422222</td>\n",
       "      <td>0.118519</td>\n",
       "      <td>0.007407</td>\n",
       "      <td>0.007407</td>\n",
       "      <td>0.007407</td>\n",
       "      <td>0.118519</td>\n",
       "      <td>0.007407</td>\n",
       "      <td>0.118519</td>\n",
       "      <td>0.051852</td>\n",
       "      <td>0.229630</td>\n",
       "      <td>0.044444</td>\n",
       "      <td>0.125926</td>\n",
       "      <td>0.014815</td>\n",
       "      <td>0.100519</td>\n",
       "    </tr>\n",
       "    <tr>\n",
       "      <th>std</th>\n",
       "      <td>7.81789</td>\n",
       "      <td>0.659749</td>\n",
       "      <td>1.102437</td>\n",
       "      <td>0.170195</td>\n",
       "      <td>0.696116</td>\n",
       "      <td>0.346665</td>\n",
       "      <td>0.086066</td>\n",
       "      <td>0.086066</td>\n",
       "      <td>0.086066</td>\n",
       "      <td>0.504485</td>\n",
       "      <td>0.086066</td>\n",
       "      <td>0.712907</td>\n",
       "      <td>0.222554</td>\n",
       "      <td>0.818998</td>\n",
       "      <td>0.206848</td>\n",
       "      <td>0.464077</td>\n",
       "      <td>0.121261</td>\n",
       "      <td>0.043632</td>\n",
       "    </tr>\n",
       "    <tr>\n",
       "      <th>min</th>\n",
       "      <td>1.00000</td>\n",
       "      <td>0.000000</td>\n",
       "      <td>0.000000</td>\n",
       "      <td>0.000000</td>\n",
       "      <td>0.000000</td>\n",
       "      <td>0.000000</td>\n",
       "      <td>0.000000</td>\n",
       "      <td>0.000000</td>\n",
       "      <td>0.000000</td>\n",
       "      <td>0.000000</td>\n",
       "      <td>0.000000</td>\n",
       "      <td>0.000000</td>\n",
       "      <td>0.000000</td>\n",
       "      <td>0.000000</td>\n",
       "      <td>0.000000</td>\n",
       "      <td>0.000000</td>\n",
       "      <td>0.000000</td>\n",
       "      <td>0.034000</td>\n",
       "    </tr>\n",
       "    <tr>\n",
       "      <th>25%</th>\n",
       "      <td>7.00000</td>\n",
       "      <td>0.000000</td>\n",
       "      <td>0.000000</td>\n",
       "      <td>0.000000</td>\n",
       "      <td>0.000000</td>\n",
       "      <td>0.000000</td>\n",
       "      <td>0.000000</td>\n",
       "      <td>0.000000</td>\n",
       "      <td>0.000000</td>\n",
       "      <td>0.000000</td>\n",
       "      <td>0.000000</td>\n",
       "      <td>0.000000</td>\n",
       "      <td>0.000000</td>\n",
       "      <td>0.000000</td>\n",
       "      <td>0.000000</td>\n",
       "      <td>0.000000</td>\n",
       "      <td>0.000000</td>\n",
       "      <td>0.074000</td>\n",
       "    </tr>\n",
       "    <tr>\n",
       "      <th>50%</th>\n",
       "      <td>14.00000</td>\n",
       "      <td>0.000000</td>\n",
       "      <td>1.000000</td>\n",
       "      <td>0.000000</td>\n",
       "      <td>0.000000</td>\n",
       "      <td>0.000000</td>\n",
       "      <td>0.000000</td>\n",
       "      <td>0.000000</td>\n",
       "      <td>0.000000</td>\n",
       "      <td>0.000000</td>\n",
       "      <td>0.000000</td>\n",
       "      <td>0.000000</td>\n",
       "      <td>0.000000</td>\n",
       "      <td>0.000000</td>\n",
       "      <td>0.000000</td>\n",
       "      <td>0.000000</td>\n",
       "      <td>0.000000</td>\n",
       "      <td>0.090000</td>\n",
       "    </tr>\n",
       "    <tr>\n",
       "      <th>75%</th>\n",
       "      <td>21.00000</td>\n",
       "      <td>1.000000</td>\n",
       "      <td>1.000000</td>\n",
       "      <td>0.000000</td>\n",
       "      <td>1.000000</td>\n",
       "      <td>0.000000</td>\n",
       "      <td>0.000000</td>\n",
       "      <td>0.000000</td>\n",
       "      <td>0.000000</td>\n",
       "      <td>0.000000</td>\n",
       "      <td>0.000000</td>\n",
       "      <td>0.000000</td>\n",
       "      <td>0.000000</td>\n",
       "      <td>0.000000</td>\n",
       "      <td>0.000000</td>\n",
       "      <td>0.000000</td>\n",
       "      <td>0.000000</td>\n",
       "      <td>0.118500</td>\n",
       "    </tr>\n",
       "    <tr>\n",
       "      <th>max</th>\n",
       "      <td>27.00000</td>\n",
       "      <td>4.000000</td>\n",
       "      <td>5.000000</td>\n",
       "      <td>1.000000</td>\n",
       "      <td>3.000000</td>\n",
       "      <td>2.000000</td>\n",
       "      <td>1.000000</td>\n",
       "      <td>1.000000</td>\n",
       "      <td>1.000000</td>\n",
       "      <td>4.000000</td>\n",
       "      <td>1.000000</td>\n",
       "      <td>7.000000</td>\n",
       "      <td>1.000000</td>\n",
       "      <td>8.000000</td>\n",
       "      <td>1.000000</td>\n",
       "      <td>4.000000</td>\n",
       "      <td>1.000000</td>\n",
       "      <td>0.234000</td>\n",
       "    </tr>\n",
       "  </tbody>\n",
       "</table>\n",
       "</div>"
      ],
      "text/plain": [
       "       hour_coded  immobilized_bus  broken_truck  vehicle_excess  \\\n",
       "count   135.00000       135.000000    135.000000      135.000000   \n",
       "mean     14.00000         0.340741      0.874074        0.029630   \n",
       "std       7.81789         0.659749      1.102437        0.170195   \n",
       "min       1.00000         0.000000      0.000000        0.000000   \n",
       "25%       7.00000         0.000000      0.000000        0.000000   \n",
       "50%      14.00000         0.000000      1.000000        0.000000   \n",
       "75%      21.00000         1.000000      1.000000        0.000000   \n",
       "max      27.00000         4.000000      5.000000        1.000000   \n",
       "\n",
       "       accident_victim  running_over  fire_vehicles  freight_occurrence  \\\n",
       "count       135.000000    135.000000     135.000000          135.000000   \n",
       "mean          0.422222      0.118519       0.007407            0.007407   \n",
       "std           0.696116      0.346665       0.086066            0.086066   \n",
       "min           0.000000      0.000000       0.000000            0.000000   \n",
       "25%           0.000000      0.000000       0.000000            0.000000   \n",
       "50%           0.000000      0.000000       0.000000            0.000000   \n",
       "75%           1.000000      0.000000       0.000000            0.000000   \n",
       "max           3.000000      2.000000       1.000000            1.000000   \n",
       "\n",
       "       dangerous_freight_incident  lack_of_electricity        fire  \\\n",
       "count                  135.000000           135.000000  135.000000   \n",
       "mean                     0.007407             0.118519    0.007407   \n",
       "std                      0.086066             0.504485    0.086066   \n",
       "min                      0.000000             0.000000    0.000000   \n",
       "25%                      0.000000             0.000000    0.000000   \n",
       "50%                      0.000000             0.000000    0.000000   \n",
       "75%                      0.000000             0.000000    0.000000   \n",
       "max                      1.000000             4.000000    1.000000   \n",
       "\n",
       "       point_of_flooding  manifestations  trolleybus_deffect        tree  \\\n",
       "count         135.000000      135.000000          135.000000  135.000000   \n",
       "mean            0.118519        0.051852            0.229630    0.044444   \n",
       "std             0.712907        0.222554            0.818998    0.206848   \n",
       "min             0.000000        0.000000            0.000000    0.000000   \n",
       "25%             0.000000        0.000000            0.000000    0.000000   \n",
       "50%             0.000000        0.000000            0.000000    0.000000   \n",
       "75%             0.000000        0.000000            0.000000    0.000000   \n",
       "max             7.000000        1.000000            8.000000    1.000000   \n",
       "\n",
       "       semaphore_off  intermittent_semaphore  slowness_in_traffic  \n",
       "count     135.000000              135.000000           135.000000  \n",
       "mean        0.125926                0.014815             0.100519  \n",
       "std         0.464077                0.121261             0.043632  \n",
       "min         0.000000                0.000000             0.034000  \n",
       "25%         0.000000                0.000000             0.074000  \n",
       "50%         0.000000                0.000000             0.090000  \n",
       "75%         0.000000                0.000000             0.118500  \n",
       "max         4.000000                1.000000             0.234000  "
      ]
     },
     "execution_count": 6,
     "metadata": {},
     "output_type": "execute_result"
    }
   ],
   "source": [
    "preprocessed_traffic.describe()"
   ]
  },
  {
   "cell_type": "code",
   "execution_count": 7,
   "id": "bf385fa4-c9a1-4247-9192-45a38e2cff08",
   "metadata": {},
   "outputs": [
    {
     "name": "stderr",
     "output_type": "stream",
     "text": [
      "C:\\Users\\155 X-MX\\AppData\\Local\\Temp\\ipykernel_20316\\3219363018.py:2: FutureWarning: Passing a set as an indexer is deprecated and will raise in a future version. Use a list instead.\n",
      "  preprocessed_traffic[{'immobilized_bus', 'broken_truck'}].sum()\n"
     ]
    },
    {
     "data": {
      "text/plain": [
       "immobilized_bus     46\n",
       "broken_truck       118\n",
       "dtype: int64"
      ]
     },
     "execution_count": 7,
     "metadata": {},
     "output_type": "execute_result"
    }
   ],
   "source": [
    "#testando somar o total de ocorrências de duas variáveis quantitativas do dataset:\n",
    "preprocessed_traffic[{'immobilized_bus', 'broken_truck'}].sum()"
   ]
  },
  {
   "cell_type": "code",
   "execution_count": 8,
   "id": "0918a46c-61f7-42ff-9cc4-2bd469cceca1",
   "metadata": {},
   "outputs": [
    {
     "data": {
      "text/plain": [
       "hour_coded                    1890.00\n",
       "immobilized_bus                 46.00\n",
       "broken_truck                   118.00\n",
       "vehicle_excess                   4.00\n",
       "accident_victim                 57.00\n",
       "running_over                    16.00\n",
       "fire_vehicles                    1.00\n",
       "freight_occurrence               1.00\n",
       "dangerous_freight_incident       1.00\n",
       "lack_of_electricity             16.00\n",
       "fire                             1.00\n",
       "point_of_flooding               16.00\n",
       "manifestations                   7.00\n",
       "trolleybus_deffect              31.00\n",
       "tree                             6.00\n",
       "semaphore_off                   17.00\n",
       "intermittent_semaphore           2.00\n",
       "slowness_in_traffic             13.57\n",
       "dtype: float64"
      ]
     },
     "execution_count": 8,
     "metadata": {},
     "output_type": "execute_result"
    }
   ],
   "source": [
    "# total de ocorrências de todas as variáveis quantitativas do dataset durante o período analisado (exceto por slowness in traffic):\n",
    "preprocessed_traffic.sum()"
   ]
  },
  {
   "cell_type": "code",
   "execution_count": 9,
   "id": "0a0e56f6-db52-4668-b728-994e71aef416",
   "metadata": {},
   "outputs": [
    {
     "data": {
      "text/plain": [
       "dangerous_freight_incident       1.00\n",
       "fire                             1.00\n",
       "fire_vehicles                    1.00\n",
       "freight_occurrence               1.00\n",
       "intermittent_semaphore           2.00\n",
       "vehicle_excess                   4.00\n",
       "tree                             6.00\n",
       "manifestations                   7.00\n",
       "slowness_in_traffic             13.57\n",
       "lack_of_electricity             16.00\n",
       "point_of_flooding               16.00\n",
       "running_over                    16.00\n",
       "semaphore_off                   17.00\n",
       "trolleybus_deffect              31.00\n",
       "immobilized_bus                 46.00\n",
       "accident_victim                 57.00\n",
       "broken_truck                   118.00\n",
       "hour_coded                    1890.00\n",
       "dtype: float64"
      ]
     },
     "execution_count": 9,
     "metadata": {},
     "output_type": "execute_result"
    }
   ],
   "source": [
    "columns_sum = preprocessed_traffic.sum()\n",
    "columns_sum.sort_values()"
   ]
  },
  {
   "cell_type": "code",
   "execution_count": 11,
   "id": "c7640e68-2120-4322-bd84-300e9e682759",
   "metadata": {},
   "outputs": [
    {
     "data": {
      "text/plain": [
       "broken_truck              118.0\n",
       "accident_victim            57.0\n",
       "immobilized_bus            46.0\n",
       "trolleybus_deffect         31.0\n",
       "semaphore_off              17.0\n",
       "running_over               16.0\n",
       "lack_of_electricity        16.0\n",
       "point_of_flooding          16.0\n",
       "manifestations              7.0\n",
       "tree                        6.0\n",
       "intermittent_semaphore      2.0\n",
       "fire_vehicles               1.0\n",
       "dtype: float64"
      ]
     },
     "execution_count": 11,
     "metadata": {},
     "output_type": "execute_result"
    }
   ],
   "source": [
    "total_occurrences = columns_sum.drop(index=[\"hour_coded\", \"vehicle_excess\", \"freight_occurrence\", \"dangerous_freight_incident\", \"fire\", \"slowness_in_traffic\"])\n",
    "\n",
    "# Abaixo temos o somatório de todas as ocorrências ordenados por variável;\n",
    "# Percebe-se como 'broken_truck' foi o evento mais observado, seguido por 'accident_victim' e 'immobilized_bus';\n",
    "\n",
    "total_occurrences.sort_values(ascending=False)"
   ]
  },
  {
   "cell_type": "code",
   "execution_count": 12,
   "id": "049f1fed-15ac-4a82-8abb-41f82d122124",
   "metadata": {},
   "outputs": [
    {
     "name": "stderr",
     "output_type": "stream",
     "text": [
      "C:\\Users\\155 X-MX\\AppData\\Local\\Temp\\ipykernel_20316\\1262410283.py:3: FutureWarning: Passing a set as an indexer is deprecated and will raise in a future version. Use a list instead.\n",
      "  hour_slowness_graph_data = preprocessed_traffic[{'hour_coded', 'slowness_in_traffic'}].groupby('hour_coded').mean().reset_index()\n"
     ]
    },
    {
     "data": {
      "text/html": [
       "<div>\n",
       "<style scoped>\n",
       "    .dataframe tbody tr th:only-of-type {\n",
       "        vertical-align: middle;\n",
       "    }\n",
       "\n",
       "    .dataframe tbody tr th {\n",
       "        vertical-align: top;\n",
       "    }\n",
       "\n",
       "    .dataframe thead th {\n",
       "        text-align: right;\n",
       "    }\n",
       "</style>\n",
       "<table border=\"1\" class=\"dataframe\">\n",
       "  <thead>\n",
       "    <tr style=\"text-align: right;\">\n",
       "      <th></th>\n",
       "      <th>hour_coded</th>\n",
       "      <th>slowness_in_traffic</th>\n",
       "    </tr>\n",
       "  </thead>\n",
       "  <tbody>\n",
       "    <tr>\n",
       "      <th>0</th>\n",
       "      <td>1</td>\n",
       "      <td>0.0396</td>\n",
       "    </tr>\n",
       "    <tr>\n",
       "      <th>1</th>\n",
       "      <td>2</td>\n",
       "      <td>0.0534</td>\n",
       "    </tr>\n",
       "    <tr>\n",
       "      <th>2</th>\n",
       "      <td>3</td>\n",
       "      <td>0.0664</td>\n",
       "    </tr>\n",
       "    <tr>\n",
       "      <th>3</th>\n",
       "      <td>4</td>\n",
       "      <td>0.0732</td>\n",
       "    </tr>\n",
       "    <tr>\n",
       "      <th>4</th>\n",
       "      <td>5</td>\n",
       "      <td>0.0902</td>\n",
       "    </tr>\n",
       "    <tr>\n",
       "      <th>5</th>\n",
       "      <td>6</td>\n",
       "      <td>0.0888</td>\n",
       "    </tr>\n",
       "    <tr>\n",
       "      <th>6</th>\n",
       "      <td>7</td>\n",
       "      <td>0.0802</td>\n",
       "    </tr>\n",
       "    <tr>\n",
       "      <th>7</th>\n",
       "      <td>8</td>\n",
       "      <td>0.0786</td>\n",
       "    </tr>\n",
       "    <tr>\n",
       "      <th>8</th>\n",
       "      <td>9</td>\n",
       "      <td>0.0818</td>\n",
       "    </tr>\n",
       "    <tr>\n",
       "      <th>9</th>\n",
       "      <td>10</td>\n",
       "      <td>0.0852</td>\n",
       "    </tr>\n",
       "    <tr>\n",
       "      <th>10</th>\n",
       "      <td>11</td>\n",
       "      <td>0.0840</td>\n",
       "    </tr>\n",
       "    <tr>\n",
       "      <th>11</th>\n",
       "      <td>12</td>\n",
       "      <td>0.0770</td>\n",
       "    </tr>\n",
       "    <tr>\n",
       "      <th>12</th>\n",
       "      <td>13</td>\n",
       "      <td>0.0852</td>\n",
       "    </tr>\n",
       "    <tr>\n",
       "      <th>13</th>\n",
       "      <td>14</td>\n",
       "      <td>0.0788</td>\n",
       "    </tr>\n",
       "    <tr>\n",
       "      <th>14</th>\n",
       "      <td>15</td>\n",
       "      <td>0.0834</td>\n",
       "    </tr>\n",
       "    <tr>\n",
       "      <th>15</th>\n",
       "      <td>16</td>\n",
       "      <td>0.0900</td>\n",
       "    </tr>\n",
       "    <tr>\n",
       "      <th>16</th>\n",
       "      <td>17</td>\n",
       "      <td>0.0908</td>\n",
       "    </tr>\n",
       "    <tr>\n",
       "      <th>17</th>\n",
       "      <td>18</td>\n",
       "      <td>0.0870</td>\n",
       "    </tr>\n",
       "    <tr>\n",
       "      <th>18</th>\n",
       "      <td>19</td>\n",
       "      <td>0.0988</td>\n",
       "    </tr>\n",
       "    <tr>\n",
       "      <th>19</th>\n",
       "      <td>20</td>\n",
       "      <td>0.1142</td>\n",
       "    </tr>\n",
       "    <tr>\n",
       "      <th>20</th>\n",
       "      <td>21</td>\n",
       "      <td>0.1266</td>\n",
       "    </tr>\n",
       "    <tr>\n",
       "      <th>21</th>\n",
       "      <td>22</td>\n",
       "      <td>0.1414</td>\n",
       "    </tr>\n",
       "    <tr>\n",
       "      <th>22</th>\n",
       "      <td>23</td>\n",
       "      <td>0.1532</td>\n",
       "    </tr>\n",
       "    <tr>\n",
       "      <th>23</th>\n",
       "      <td>24</td>\n",
       "      <td>0.1662</td>\n",
       "    </tr>\n",
       "    <tr>\n",
       "      <th>24</th>\n",
       "      <td>25</td>\n",
       "      <td>0.1776</td>\n",
       "    </tr>\n",
       "    <tr>\n",
       "      <th>25</th>\n",
       "      <td>26</td>\n",
       "      <td>0.1786</td>\n",
       "    </tr>\n",
       "    <tr>\n",
       "      <th>26</th>\n",
       "      <td>27</td>\n",
       "      <td>0.1438</td>\n",
       "    </tr>\n",
       "  </tbody>\n",
       "</table>\n",
       "</div>"
      ],
      "text/plain": [
       "    hour_coded  slowness_in_traffic\n",
       "0            1               0.0396\n",
       "1            2               0.0534\n",
       "2            3               0.0664\n",
       "3            4               0.0732\n",
       "4            5               0.0902\n",
       "5            6               0.0888\n",
       "6            7               0.0802\n",
       "7            8               0.0786\n",
       "8            9               0.0818\n",
       "9           10               0.0852\n",
       "10          11               0.0840\n",
       "11          12               0.0770\n",
       "12          13               0.0852\n",
       "13          14               0.0788\n",
       "14          15               0.0834\n",
       "15          16               0.0900\n",
       "16          17               0.0908\n",
       "17          18               0.0870\n",
       "18          19               0.0988\n",
       "19          20               0.1142\n",
       "20          21               0.1266\n",
       "21          22               0.1414\n",
       "22          23               0.1532\n",
       "23          24               0.1662\n",
       "24          25               0.1776\n",
       "25          26               0.1786\n",
       "26          27               0.1438"
      ]
     },
     "execution_count": 12,
     "metadata": {},
     "output_type": "execute_result"
    }
   ],
   "source": [
    "# Esse código traz a média de lentidão no tráfego a cada intervalo de 30 minutos;\n",
    "# Até poderíamos colocar os dados em ordem numérica, mas isso não faria sentido pois estamos analisando uma série temporal;\n",
    "hour_slowness_graph_data = preprocessed_traffic[{'hour_coded', 'slowness_in_traffic'}].groupby('hour_coded').mean().reset_index()\n",
    "hour_slowness_graph_data"
   ]
  },
  {
   "cell_type": "code",
   "execution_count": 13,
   "id": "92e81017-385f-4a2f-ad59-3b36a797877a",
   "metadata": {},
   "outputs": [
    {
     "data": {
      "text/plain": [
       "<AxesSubplot:xlabel='hour_coded', ylabel='slowness_in_traffic'>"
      ]
     },
     "execution_count": 13,
     "metadata": {},
     "output_type": "execute_result"
    },
    {
     "data": {
      "image/png": "[encoded data removed]",
      "text/plain": [
       "<Figure size 864x576 with 1 Axes>"
      ]
     },
     "metadata": {
      "needs_background": "light"
     },
     "output_type": "display_data"
    }
   ],
   "source": [
    "f,ax = plt.subplots(figsize=(12, 8))\n",
    "sns.barplot(x = 'hour_coded', y = 'slowness_in_traffic', data = preprocessed_traffic)"
   ]
  },
  {
   "cell_type": "code",
   "execution_count": 14,
   "id": "8db96bf4-5ae7-45e8-b48c-dd8b403bc8ee",
   "metadata": {},
   "outputs": [
    {
     "data": {
      "text/plain": [
       "<AxesSubplot:xlabel='hour_coded', ylabel='slowness_in_traffic'>"
      ]
     },
     "execution_count": 14,
     "metadata": {},
     "output_type": "execute_result"
    },
    {
     "data": {
      "image/png": "[encoded data removed]",
      "text/plain": [
       "<Figure size 864x576 with 1 Axes>"
      ]
     },
     "metadata": {
      "needs_background": "light"
     },
     "output_type": "display_data"
    }
   ],
   "source": [
    "f,ax = plt.subplots(figsize=(12, 8))\n",
    "sns.barplot(x = 'hour_coded', y = 'slowness_in_traffic', data = hour_slowness_graph_data)"
   ]
  },
  {
   "cell_type": "code",
   "execution_count": 15,
   "id": "92f69850-c4d2-469a-b71b-98c55371aa84",
   "metadata": {},
   "outputs": [
    {
     "name": "stderr",
     "output_type": "stream",
     "text": [
      "C:\\Users\\155 X-MX\\AppData\\Local\\Temp\\ipykernel_20316\\1586418326.py:1: FutureWarning: Passing a set as an indexer is deprecated and will raise in a future version. Use a list instead.\n",
      "  hour_broken_truck_graph_data = preprocessed_traffic[{'hour_coded', 'broken_truck'}].groupby('hour_coded').mean().reset_index()\n"
     ]
    },
    {
     "data": {
      "text/plain": [
       "<AxesSubplot:xlabel='hour_coded', ylabel='broken_truck'>"
      ]
     },
     "execution_count": 15,
     "metadata": {},
     "output_type": "execute_result"
    },
    {
     "data": {
      "image/png": "[encoded data removed]",
      "text/plain": [
       "<Figure size 864x576 with 1 Axes>"
      ]
     },
     "metadata": {
      "needs_background": "light"
     },
     "output_type": "display_data"
    }
   ],
   "source": [
    "hour_broken_truck_graph_data = preprocessed_traffic[{'hour_coded', 'broken_truck'}].groupby('hour_coded').mean().reset_index()\n",
    "f,ax = plt.subplots(figsize=(12, 8))\n",
    "sns.barplot(x = 'hour_coded', y = 'broken_truck', data = hour_broken_truck_graph_data)"
   ]
  },
  {
   "cell_type": "code",
   "execution_count": 16,
   "id": "d5426a5a-7002-422a-986d-006419a740b9",
   "metadata": {},
   "outputs": [
    {
     "name": "stderr",
     "output_type": "stream",
     "text": [
      "C:\\Users\\155 X-MX\\AppData\\Local\\Temp\\ipykernel_20316\\825879886.py:1: FutureWarning: Passing a set as an indexer is deprecated and will raise in a future version. Use a list instead.\n",
      "  hour_accident_victim_graph_data = preprocessed_traffic[{'hour_coded', 'accident_victim'}].groupby('hour_coded').mean().reset_index()\n"
     ]
    },
    {
     "data": {
      "text/plain": [
       "<AxesSubplot:xlabel='hour_coded', ylabel='accident_victim'>"
      ]
     },
     "execution_count": 16,
     "metadata": {},
     "output_type": "execute_result"
    },
    {
     "data": {
      "image/png": "[encoded data removed]",
      "text/plain": [
       "<Figure size 864x576 with 1 Axes>"
      ]
     },
     "metadata": {
      "needs_background": "light"
     },
     "output_type": "display_data"
    }
   ],
   "source": [
    "hour_accident_victim_graph_data = preprocessed_traffic[{'hour_coded', 'accident_victim'}].groupby('hour_coded').mean().reset_index()\n",
    "f,ax = plt.subplots(figsize=(12, 8))\n",
    "sns.barplot(x = 'hour_coded', y = 'accident_victim', data = hour_accident_victim_graph_data)"
   ]
  },
  {
   "cell_type": "code",
   "execution_count": 17,
   "id": "ffa2c141-1a44-47f7-9d4d-08e51cc4039d",
   "metadata": {},
   "outputs": [
    {
     "name": "stderr",
     "output_type": "stream",
     "text": [
      "C:\\Users\\155 X-MX\\AppData\\Local\\Temp\\ipykernel_20316\\1631968593.py:2: FutureWarning: Passing a set as an indexer is deprecated and will raise in a future version. Use a list instead.\n",
      "  preprocessed_traffic[{'broken_truck', 'slowness_in_traffic'}].corr()\n"
     ]
    },
    {
     "data": {
      "text/html": [
       "<div>\n",
       "<style scoped>\n",
       "    .dataframe tbody tr th:only-of-type {\n",
       "        vertical-align: middle;\n",
       "    }\n",
       "\n",
       "    .dataframe tbody tr th {\n",
       "        vertical-align: top;\n",
       "    }\n",
       "\n",
       "    .dataframe thead th {\n",
       "        text-align: right;\n",
       "    }\n",
       "</style>\n",
       "<table border=\"1\" class=\"dataframe\">\n",
       "  <thead>\n",
       "    <tr style=\"text-align: right;\">\n",
       "      <th></th>\n",
       "      <th>slowness_in_traffic</th>\n",
       "      <th>broken_truck</th>\n",
       "    </tr>\n",
       "  </thead>\n",
       "  <tbody>\n",
       "    <tr>\n",
       "      <th>slowness_in_traffic</th>\n",
       "      <td>1.000000</td>\n",
       "      <td>0.131998</td>\n",
       "    </tr>\n",
       "    <tr>\n",
       "      <th>broken_truck</th>\n",
       "      <td>0.131998</td>\n",
       "      <td>1.000000</td>\n",
       "    </tr>\n",
       "  </tbody>\n",
       "</table>\n",
       "</div>"
      ],
      "text/plain": [
       "                     slowness_in_traffic  broken_truck\n",
       "slowness_in_traffic             1.000000      0.131998\n",
       "broken_truck                    0.131998      1.000000"
      ]
     },
     "execution_count": 17,
     "metadata": {},
     "output_type": "execute_result"
    }
   ],
   "source": [
    "#Testando a correlação entre duas variáveis dentro do dataset:\n",
    "preprocessed_traffic[{'broken_truck', 'slowness_in_traffic'}].corr()"
   ]
  },
  {
   "cell_type": "code",
   "execution_count": 20,
   "id": "11da5d1c-f36b-47c2-bfee-53c8a1f31428",
   "metadata": {},
   "outputs": [
    {
     "name": "stderr",
     "output_type": "stream",
     "text": [
      "C:\\Users\\155 X-MX\\AppData\\Local\\Temp\\ipykernel_20316\\2993879006.py:1: FutureWarning: Passing a set as an indexer is deprecated and will raise in a future version. Use a list instead.\n",
      "  preprocessed_traffic[{'immobilized_bus', 'slowness_in_traffic'}].corr()\n"
     ]
    },
    {
     "data": {
      "text/html": [
       "<div>\n",
       "<style scoped>\n",
       "    .dataframe tbody tr th:only-of-type {\n",
       "        vertical-align: middle;\n",
       "    }\n",
       "\n",
       "    .dataframe tbody tr th {\n",
       "        vertical-align: top;\n",
       "    }\n",
       "\n",
       "    .dataframe thead th {\n",
       "        text-align: right;\n",
       "    }\n",
       "</style>\n",
       "<table border=\"1\" class=\"dataframe\">\n",
       "  <thead>\n",
       "    <tr style=\"text-align: right;\">\n",
       "      <th></th>\n",
       "      <th>slowness_in_traffic</th>\n",
       "      <th>immobilized_bus</th>\n",
       "    </tr>\n",
       "  </thead>\n",
       "  <tbody>\n",
       "    <tr>\n",
       "      <th>slowness_in_traffic</th>\n",
       "      <td>1.000000</td>\n",
       "      <td>0.101143</td>\n",
       "    </tr>\n",
       "    <tr>\n",
       "      <th>immobilized_bus</th>\n",
       "      <td>0.101143</td>\n",
       "      <td>1.000000</td>\n",
       "    </tr>\n",
       "  </tbody>\n",
       "</table>\n",
       "</div>"
      ],
      "text/plain": [
       "                     slowness_in_traffic  immobilized_bus\n",
       "slowness_in_traffic             1.000000         0.101143\n",
       "immobilized_bus                 0.101143         1.000000"
      ]
     },
     "execution_count": 20,
     "metadata": {},
     "output_type": "execute_result"
    }
   ],
   "source": [
    "preprocessed_traffic[{'immobilized_bus', 'slowness_in_traffic'}].corr()"
   ]
  },
  {
   "cell_type": "code",
   "execution_count": 21,
   "id": "035b9c15-1a62-49bf-8650-8f435cd1ab97",
   "metadata": {},
   "outputs": [
    {
     "name": "stderr",
     "output_type": "stream",
     "text": [
      "C:\\Users\\155 X-MX\\AppData\\Local\\Temp\\ipykernel_20316\\811868015.py:1: FutureWarning: Passing a set as an indexer is deprecated and will raise in a future version. Use a list instead.\n",
      "  preprocessed_traffic[{'hour_coded', 'slowness_in_traffic'}].corr()\n"
     ]
    },
    {
     "data": {
      "text/html": [
       "<div>\n",
       "<style scoped>\n",
       "    .dataframe tbody tr th:only-of-type {\n",
       "        vertical-align: middle;\n",
       "    }\n",
       "\n",
       "    .dataframe tbody tr th {\n",
       "        vertical-align: top;\n",
       "    }\n",
       "\n",
       "    .dataframe thead th {\n",
       "        text-align: right;\n",
       "    }\n",
       "</style>\n",
       "<table border=\"1\" class=\"dataframe\">\n",
       "  <thead>\n",
       "    <tr style=\"text-align: right;\">\n",
       "      <th></th>\n",
       "      <th>slowness_in_traffic</th>\n",
       "      <th>hour_coded</th>\n",
       "    </tr>\n",
       "  </thead>\n",
       "  <tbody>\n",
       "    <tr>\n",
       "      <th>slowness_in_traffic</th>\n",
       "      <td>1.000000</td>\n",
       "      <td>0.729962</td>\n",
       "    </tr>\n",
       "    <tr>\n",
       "      <th>hour_coded</th>\n",
       "      <td>0.729962</td>\n",
       "      <td>1.000000</td>\n",
       "    </tr>\n",
       "  </tbody>\n",
       "</table>\n",
       "</div>"
      ],
      "text/plain": [
       "                     slowness_in_traffic  hour_coded\n",
       "slowness_in_traffic             1.000000    0.729962\n",
       "hour_coded                      0.729962    1.000000"
      ]
     },
     "execution_count": 21,
     "metadata": {},
     "output_type": "execute_result"
    }
   ],
   "source": [
    "preprocessed_traffic[{'hour_coded', 'slowness_in_traffic'}].corr()"
   ]
  },
  {
   "cell_type": "markdown",
   "id": "1fcccc34-1bad-455a-881a-8bbc07c7cdb0",
   "metadata": {},
   "source": [
    "Aqui percebemos que o horário é a variável que melhor prevê a lentidão no trânsito"
   ]
  },
  {
   "cell_type": "code",
   "execution_count": null,
   "id": "58d56eb7-959a-4e95-b04c-8b0ba9887505",
   "metadata": {},
   "outputs": [],
   "source": []
  }
 ],
 "metadata": {
  "kernelspec": {
   "display_name": "Kedro (desafio_ds_transito)",
   "language": "python",
   "name": "kedro_desafio_ds_transito"
  },
  "language_info": {
   "codemirror_mode": {
    "name": "ipython",
    "version": 3
   },
   "file_extension": ".py",
   "mimetype": "text/x-python",
   "name": "python",
   "nbconvert_exporter": "python",
   "pygments_lexer": "ipython3",
   "version": "3.8.10"
  }
 },
 "nbformat": 4,
 "nbformat_minor": 5
}
